{
 "cells": [
  {
   "cell_type": "code",
   "execution_count": 3,
   "metadata": {},
   "outputs": [
    {
     "name": "stdout",
     "output_type": "stream",
     "text": [
      "torch v1.8.0\n",
      "nilearn v0.8.0\n",
      "gcn_package v0.1.0\n"
     ]
    }
   ],
   "source": [
    "import os\n",
    "import sys\n",
    "import torch\n",
    "import templateflow\n",
    "import nilearn\n",
    "import nilearn.datasets\n",
    "import nilearn.connectome\n",
    "import nilearn.input_data\n",
    "sys.path.append(os.path.join(\"..\"))\n",
    "import gcn_package\n",
    "import gcn_package.data.raw_data_loader\n",
    "import gcn_package.data.time_windows_dataset\n",
    "import gcn_package.features.graph_construction\n",
    "import gcn_package.models.gcn\n",
    "import gcn_package.visualization.visualize\n",
    "\n",
    "print(\"torch v{}\".format(torch.__version__))\n",
    "print(\"nilearn v{}\".format(nilearn.__version__))\n",
    "print(\"gcn_package v{}\".format(gcn_package.__version__))"
   ]
  },
  {
   "cell_type": "markdown",
   "metadata": {},
   "source": [
    "# Initial parameters"
   ]
  },
  {
   "cell_type": "code",
   "execution_count": 4,
   "metadata": {},
   "outputs": [],
   "source": [
    "# parameters\n",
    "num_parcels = 512 # number of parcels (nodes) to keep for the graph\n",
    "window_length = 50 #number of timepoints per sample (timeserie)\n",
    "zero_padding = True #pad splitted timeseries with zeros, or remove incomplete\n",
    "random_seed = 0 # fix random state for dat ageneration, and pytorch fit\n",
    "# paths\n",
    "model_path = os.path.join(\"..\", \"models\", \"gcn_test.pt\")\n",
    "raw_dir = os.path.join(\"..\", \"data\", \"raw\")\n",
    "data_dir = os.path.join(\"..\", \"data\", \"processed\", f\"cobre_difumo{num_parcels}\")\n",
    "ts_out = os.path.join(data_dir, \"timeseries\")\n",
    "conn_out = os.path.join(data_dir, \"connectomes\")\n",
    "\n",
    "if not os.path.exists(ts_out):\n",
    "    os.makedirs(ts_out)\n",
    "if not os.path.exists(conn_out):\n",
    "    os.makedirs(conn_out)"
   ]
  },
  {
   "cell_type": "markdown",
   "metadata": {},
   "source": [
    "# Dataset fetching and connectomes generation"
   ]
  },
  {
   "cell_type": "code",
   "execution_count": 5,
   "metadata": {},
   "outputs": [
    {
     "name": "stderr",
     "output_type": "stream",
     "text": [
      "/home/ltetrel/.local/lib/python3.6/site-packages/numpy/lib/npyio.py:2349: VisibleDeprecationWarning: Reading unicode strings without specifying the encoding argument is deprecated. Set the encoding, use None for the system default.\n",
      "  output = genfromtxt(fname, **kwargs)\n",
      "/home/ltetrel/.local/lib/python3.6/site-packages/sklearn/utils/deprecation.py:85: DeprecationWarning: Function fetch_cobre is deprecated; 'fetch_cobre' has been deprecated and will be removed in release 0.9 . Please consider using a different datasets or downloading it with a different tool than nilearn.\n",
      "  warnings.warn(msg, category=DeprecationWarning)\n"
     ]
    }
   ],
   "source": [
    "\n",
    "#TODO: replace with templateflow when difumo is working\n",
    "# Fetching atlas\n",
    "atlas = nilearn.datasets.fetch_atlas_difumo(data_dir=raw_dir, dimension=num_parcels)\n",
    "atlas_filename = atlas['maps']\n",
    "atlas_labels = atlas['labels']\n",
    "\n",
    "# Fetching data\n",
    "data = nilearn.datasets.fetch_cobre(data_dir=raw_dir, n_subjects=None) #all subs"
   ]
  },
  {
   "cell_type": "code",
   "execution_count": 6,
   "metadata": {},
   "outputs": [],
   "source": [
    "# Estimating connectomes\n",
    "# import numpy as np\n",
    "\n",
    "# masker = nil.input_data.NiftiMapsMasker(maps_img=atlas['maps'], standardize=True, verbose=5)\n",
    "# corr_measure = nil.connectome.ConnectivityMeasure(kind=\"correlation\")\n",
    "\n",
    "# for i in range(len(data.func)):\n",
    "#     ts = masker.fit_transform(data.func[i], confounds=data.confounds[i])\n",
    "#     conn = corr_measure.fit_transform([ts])[0]\n",
    "#     sub_num = os.path.basename(data.func[i]).split('.')[0].split('_')[1]\n",
    "#     np.save(os.path.join(ts_out, \"timeseries_{}_difumo_{}.npy\".format(sub_num, num_parcels)), ts)\n",
    "#     np.save(os.path.join(conn_out, \"conn_{}_difumo_{}.npy\".format(sub_num, num_parcels)), conn)\n",
    "#     print(\"Done {}/146\".format(i+1))"
   ]
  },
  {
   "cell_type": "markdown",
   "metadata": {},
   "source": [
    "# Data generator"
   ]
  },
  {
   "cell_type": "code",
   "execution_count": 7,
   "metadata": {},
   "outputs": [],
   "source": [
    "# Preparing data for generator\n",
    "# this include timeseries loading, splitting and labeling\n",
    "pheno_path = os.path.join(raw_dir, \"cobre\", \"phenotypic_data.tsv\")\n",
    "split_dir = os.path.join(\"..\", \"data\", \"interim\")"
   ]
  },
  {
   "cell_type": "code",
   "execution_count": 8,
   "metadata": {},
   "outputs": [],
   "source": [
    "# remove previous content\n",
    "if os.path.exists(split_dir):\n",
    "    import glob\n",
    "\n",
    "    files = glob.glob(os.path.join(split_dir, \"[^.gitkeep]*\"))\n",
    "    for f in files:\n",
    "        os.remove(f)"
   ]
  },
  {
   "cell_type": "code",
   "execution_count": 9,
   "metadata": {},
   "outputs": [
    {
     "name": "stderr",
     "output_type": "stream",
     "text": [
      "../gcn_package/data/raw_data_loader.py:103: UserWarning: Different shapes for sub ID(s): ['40075']\n",
      "  warnings.warn(\"Different shapes for sub ID(s): {}\".format(non_valid_ids))\n"
     ]
    }
   ],
   "source": [
    "RawDataLoad = gcn_package.data.raw_data_loader.RawDataLoader(\n",
    "    num_nodes = num_parcels\n",
    "    , ts_dir=ts_out\n",
    "    , conn_dir=conn_out\n",
    "    , pheno_path=pheno_path)\n",
    "RawDataLoad.split_timeseries_and_save(window_length=window_length, zero_padding=zero_padding, output_dir=split_dir)"
   ]
  },
  {
   "cell_type": "code",
   "execution_count": 10,
   "metadata": {},
   "outputs": [
    {
     "data": {
      "text/plain": [
       "(150, 512)"
      ]
     },
     "execution_count": 10,
     "metadata": {},
     "output_type": "execute_result"
    }
   ],
   "source": [
    "RawDataLoad.get_valid_timeseries()[0].shape"
   ]
  },
  {
   "cell_type": "code",
   "execution_count": 11,
   "metadata": {},
   "outputs": [
    {
     "name": "stdout",
     "output_type": "stream",
     "text": [
      "train dataset: 304*(torch.Size([512, 50]), ())\n",
      "valid dataset: 87*(torch.Size([512, 50]), ())\n",
      "test dataset: 44*(torch.Size([512, 50]), ())\n"
     ]
    }
   ],
   "source": [
    "# Pytorch dataset: generates items from the current data directory\n",
    "train_dataset = gcn_package.data.time_windows_dataset.TimeWindowsDataset(\n",
    "    data_dir=split_dir\n",
    "    , partition=\"train\"\n",
    "    , random_seed=random_seed\n",
    "    , pin_memory=True\n",
    "    , normalize=True)\n",
    "valid_dataset = gcn_package.data.time_windows_dataset.TimeWindowsDataset(\n",
    "    data_dir=split_dir\n",
    "    , partition=\"valid\"\n",
    "    , random_seed=random_seed\n",
    "    , pin_memory=True\n",
    "    , normalize=True)\n",
    "test_dataset = gcn_package.data.time_windows_dataset.TimeWindowsDataset(\n",
    "    data_dir=split_dir\n",
    "    , partition=\"test\"\n",
    "    , random_seed=random_seed\n",
    "    , pin_memory=True\n",
    "    , normalize=True)\n",
    "print(\"train dataset: {}\".format(train_dataset))\n",
    "print(\"valid dataset: {}\".format(valid_dataset))\n",
    "print(\"test dataset: {}\".format(test_dataset))"
   ]
  },
  {
   "cell_type": "code",
   "execution_count": 12,
   "metadata": {},
   "outputs": [
    {
     "name": "stdout",
     "output_type": "stream",
     "text": [
      "Feature batch shape: torch.Size([16, 512, 50]); mean 1.210719302591201e-09\n",
      "Labels batch shape: torch.Size([16]); mean 0.5625\n"
     ]
    }
   ],
   "source": [
    "# Pytorch dataloader: wraps an iterable around the pytorch dataset to shuffle and generate (in parrallel) minibatches\n",
    "#setting pytoch seed for reproducible torch.utils.data.DataLoader\n",
    "torch.manual_seed(random_seed)\n",
    "train_generator = torch.utils.data.DataLoader(train_dataset, batch_size=16, shuffle=True)\n",
    "valid_generator = torch.utils.data.DataLoader(valid_dataset, batch_size=16, shuffle=True)\n",
    "test_generator = torch.utils.data.DataLoader(test_dataset, batch_size=16, shuffle=True)\n",
    "train_features, train_labels = next(iter(train_generator))\n",
    "print(f\"Feature batch shape: {train_features.size()}; mean {torch.mean(train_features)}\")\n",
    "print(f\"Labels batch shape: {train_labels.size()}; mean {torch.mean(torch.Tensor.float(train_labels))}\")"
   ]
  },
  {
   "cell_type": "code",
   "execution_count": 28,
   "metadata": {},
   "outputs": [
    {
     "data": {
      "text/plain": [
       "torch.Size([16, 512, 50])"
      ]
     },
     "execution_count": 28,
     "metadata": {},
     "output_type": "execute_result"
    }
   ],
   "source": [
    "next(iter(train_generator))[0].shape"
   ]
  },
  {
   "cell_type": "markdown",
   "metadata": {},
   "source": [
    "# Model definition"
   ]
  },
  {
   "cell_type": "code",
   "execution_count": 14,
   "metadata": {},
   "outputs": [
    {
     "data": {
      "text/plain": [
       "CustomGCN()"
      ]
     },
     "execution_count": 14,
     "metadata": {},
     "output_type": "execute_result"
    }
   ],
   "source": [
    "# model definition\n",
    "# get average connectome with its k-nearest neighbors\n",
    "connectomes = RawDataLoad.get_valid_connectomes()\n",
    "graph = gcn_package.features.graph_construction.make_group_graph(connectomes, k=8, self_loops=False, symmetric=True)\n",
    "# Create model\n",
    "gcn = gcn_package.models.gcn.CustomGCN(graph.edge_index, graph.edge_attr, n_timepoints=window_length, n_roi=num_parcels, n_classes=2)\n",
    "gcn"
   ]
  },
  {
   "cell_type": "code",
   "execution_count": 15,
   "metadata": {},
   "outputs": [
    {
     "data": {
      "text/plain": [
       "tensor([[  0,   0,   0,  ..., 511, 511, 511],\n",
       "        [  6,  74, 137,  ..., 319, 432, 499]])"
      ]
     },
     "execution_count": 15,
     "metadata": {},
     "output_type": "execute_result"
    }
   ],
   "source": [
    "graph.edge_index"
   ]
  },
  {
   "cell_type": "code",
   "execution_count": 21,
   "metadata": {},
   "outputs": [
    {
     "data": {
      "text/plain": [
       "Data(edge_attr=[5378], edge_index=[2, 5378])"
      ]
     },
     "execution_count": 21,
     "metadata": {},
     "output_type": "execute_result"
    }
   ],
   "source": [
    "graph"
   ]
  },
  {
   "cell_type": "code",
   "execution_count": 20,
   "metadata": {},
   "outputs": [
    {
     "data": {
      "text/plain": [
       "[Parameter containing:\n",
       " tensor([[[ 0.1152,  0.1071, -0.0341,  ...,  0.2043,  0.2704,  0.2365],\n",
       "          [ 0.2096, -0.0620, -0.0949,  ..., -0.1846, -0.0437, -0.1757],\n",
       "          [ 0.1878, -0.2045, -0.1320,  ...,  0.1730,  0.0201, -0.1277],\n",
       "          ...,\n",
       "          [ 0.1381,  0.1357,  0.1913,  ..., -0.1225, -0.1070, -0.0349],\n",
       "          [ 0.0296, -0.1887, -0.2166,  ..., -0.0887,  0.0907,  0.0754],\n",
       "          [-0.1578,  0.0262, -0.2054,  ...,  0.0344, -0.1382, -0.0242]],\n",
       " \n",
       "         [[-0.0338, -0.2556,  0.1834,  ...,  0.1140,  0.1131, -0.2335],\n",
       "          [-0.2378, -0.2097,  0.0047,  ..., -0.2118, -0.1561, -0.2464],\n",
       "          [-0.0545,  0.1088, -0.2053,  ...,  0.1500,  0.0485,  0.0413],\n",
       "          ...,\n",
       "          [ 0.1369, -0.0086,  0.2606,  ...,  0.1951,  0.2326, -0.0989],\n",
       "          [-0.1325,  0.0453,  0.1456,  ..., -0.0778, -0.1383, -0.0601],\n",
       "          [-0.1146,  0.0087, -0.1953,  ..., -0.2314,  0.1298, -0.0610]]],\n",
       "        requires_grad=True), Parameter containing:\n",
       " tensor([0., 0., 0., 0., 0., 0., 0., 0., 0., 0., 0., 0., 0., 0., 0., 0., 0., 0., 0., 0., 0., 0., 0., 0.,\n",
       "         0., 0., 0., 0., 0., 0., 0., 0.], requires_grad=True), Parameter containing:\n",
       " tensor([[[ 0.1925,  0.0202, -0.0004,  ..., -0.2649,  0.1110, -0.2687],\n",
       "          [-0.2442, -0.1826,  0.2918,  ..., -0.1425, -0.2479, -0.1893],\n",
       "          [ 0.1043, -0.0849,  0.2992,  ..., -0.2944, -0.0976, -0.2046],\n",
       "          ...,\n",
       "          [-0.0101, -0.0944,  0.0010,  ..., -0.0184,  0.2962,  0.2240],\n",
       "          [-0.2195,  0.2429,  0.3047,  ..., -0.1732,  0.2194,  0.1792],\n",
       "          [-0.0481,  0.1193, -0.0172,  ..., -0.2649,  0.1779, -0.3035]],\n",
       " \n",
       "         [[-0.3060, -0.3027,  0.1888,  ..., -0.1748,  0.2186,  0.2830],\n",
       "          [-0.0959, -0.2627, -0.1172,  ..., -0.1910,  0.0098,  0.0726],\n",
       "          [ 0.1355, -0.0931, -0.1051,  ...,  0.0226,  0.0516, -0.1297],\n",
       "          ...,\n",
       "          [ 0.2663,  0.2598, -0.0933,  ...,  0.2030,  0.0883, -0.1881],\n",
       "          [-0.1232,  0.0295, -0.2838,  ...,  0.0338,  0.2611, -0.2936],\n",
       "          [-0.0881,  0.0806,  0.1156,  ..., -0.0530, -0.1225, -0.1665]]],\n",
       "        requires_grad=True), Parameter containing:\n",
       " tensor([0., 0., 0., 0., 0., 0., 0., 0., 0., 0., 0., 0., 0., 0., 0., 0., 0., 0., 0., 0., 0., 0., 0., 0.,\n",
       "         0., 0., 0., 0., 0., 0., 0., 0.], requires_grad=True), Parameter containing:\n",
       " tensor([[[ 0.0530,  0.1857,  0.0362,  ...,  0.2236,  0.1607,  0.0903],\n",
       "          [-0.1068, -0.1482, -0.0757,  ..., -0.2239,  0.1640, -0.1948],\n",
       "          [ 0.0574, -0.2335,  0.1168,  ..., -0.2606, -0.2998,  0.2277],\n",
       "          ...,\n",
       "          [-0.1241,  0.1093, -0.0958,  ..., -0.2719,  0.2606,  0.2883],\n",
       "          [-0.1482, -0.2732,  0.1080,  ..., -0.0075, -0.1484, -0.1641],\n",
       "          [ 0.1032,  0.1511,  0.2916,  ...,  0.1996, -0.2828, -0.2309]],\n",
       " \n",
       "         [[ 0.2555, -0.1928, -0.1028,  ..., -0.0784,  0.1375, -0.0247],\n",
       "          [ 0.2092,  0.1237, -0.0018,  ..., -0.1739,  0.2756, -0.0799],\n",
       "          [ 0.0659,  0.2727, -0.1447,  ..., -0.2812,  0.0512, -0.2188],\n",
       "          ...,\n",
       "          [ 0.0659, -0.2039,  0.0974,  ...,  0.0407, -0.1584, -0.2234],\n",
       "          [ 0.1707,  0.2499, -0.3043,  ..., -0.1320,  0.0735,  0.0872],\n",
       "          [ 0.0580,  0.2279,  0.2329,  ...,  0.3035, -0.2299,  0.0367]]],\n",
       "        requires_grad=True), Parameter containing:\n",
       " tensor([0., 0., 0., 0., 0., 0., 0., 0., 0., 0., 0., 0., 0., 0., 0., 0., 0., 0., 0., 0., 0., 0., 0., 0.,\n",
       "         0., 0., 0., 0., 0., 0., 0., 0.], requires_grad=True), Parameter containing:\n",
       " tensor([[[ 0.0596,  0.0303,  0.0618,  ..., -0.2267,  0.1789, -0.1457],\n",
       "          [-0.2556,  0.0587,  0.0323,  ...,  0.0551, -0.2770, -0.2935],\n",
       "          [-0.2864, -0.2260,  0.1107,  ...,  0.0854,  0.2456, -0.2493],\n",
       "          ...,\n",
       "          [ 0.1849,  0.2691, -0.2371,  ..., -0.1587,  0.1362,  0.0878],\n",
       "          [-0.1881,  0.0389, -0.2682,  ...,  0.1462, -0.1305, -0.0698],\n",
       "          [-0.0736,  0.1662,  0.2690,  ...,  0.2795, -0.0301,  0.2457]],\n",
       " \n",
       "         [[-0.1260, -0.0970,  0.1375,  ..., -0.1715, -0.0324,  0.2335],\n",
       "          [ 0.1984,  0.1726, -0.0430,  ...,  0.0332, -0.2005,  0.2583],\n",
       "          [ 0.0473,  0.2212,  0.2163,  ...,  0.2878, -0.1785, -0.1796],\n",
       "          ...,\n",
       "          [ 0.0088,  0.1119, -0.1254,  ...,  0.3058,  0.0078,  0.2297],\n",
       "          [-0.1816, -0.2494,  0.0342,  ..., -0.0020, -0.0853, -0.1828],\n",
       "          [ 0.2388, -0.3020,  0.2167,  ...,  0.3041, -0.3030,  0.2836]]],\n",
       "        requires_grad=True), Parameter containing:\n",
       " tensor([0., 0., 0., 0., 0., 0., 0., 0., 0., 0., 0., 0., 0., 0., 0., 0., 0., 0., 0., 0., 0., 0., 0., 0.,\n",
       "         0., 0., 0., 0., 0., 0., 0., 0.], requires_grad=True), Parameter containing:\n",
       " tensor([[[-0.2655,  0.3035,  0.0243,  ...,  0.2593, -0.0499, -0.1893],\n",
       "          [-0.2590,  0.0358, -0.2146,  ...,  0.1643,  0.1809, -0.2719],\n",
       "          [ 0.0006, -0.2577, -0.0557,  ..., -0.2793,  0.2562, -0.1327],\n",
       "          ...,\n",
       "          [-0.1913,  0.3013, -0.2564,  ...,  0.2104,  0.2000,  0.2507],\n",
       "          [ 0.2627,  0.1643, -0.0164,  ...,  0.0690,  0.0392,  0.2851],\n",
       "          [-0.0914, -0.0161, -0.0011,  ..., -0.0480, -0.1809,  0.2854]],\n",
       " \n",
       "         [[-0.2490,  0.2858, -0.0518,  ..., -0.3036,  0.1809, -0.1387],\n",
       "          [ 0.1835,  0.1456,  0.1659,  ..., -0.2022,  0.2168,  0.0508],\n",
       "          [ 0.1005, -0.2225,  0.0568,  ...,  0.0059, -0.2581,  0.2155],\n",
       "          ...,\n",
       "          [ 0.2334,  0.2819, -0.2787,  ..., -0.1449,  0.2986,  0.0465],\n",
       "          [ 0.0150,  0.1921, -0.2065,  ..., -0.0158, -0.2540,  0.0671],\n",
       "          [-0.1229,  0.2345,  0.2926,  ..., -0.0915,  0.0987, -0.2589]]],\n",
       "        requires_grad=True), Parameter containing:\n",
       " tensor([0., 0., 0., 0., 0., 0., 0., 0., 0., 0., 0., 0., 0., 0., 0., 0., 0., 0., 0., 0., 0., 0., 0., 0.,\n",
       "         0., 0., 0., 0., 0., 0., 0., 0.], requires_grad=True), Parameter containing:\n",
       " tensor([[[ 0.1458, -0.2325,  0.2940,  ..., -0.1839,  0.2437,  0.2260],\n",
       "          [ 0.1991,  0.2517,  0.2302,  ..., -0.1846,  0.0906,  0.2639],\n",
       "          [-0.1850, -0.2225,  0.1284,  ...,  0.1989,  0.2402,  0.1897],\n",
       "          ...,\n",
       "          [-0.2803, -0.2320, -0.2000,  ...,  0.0909, -0.2179, -0.1774],\n",
       "          [ 0.1040,  0.0303, -0.0469,  ...,  0.0431,  0.1135, -0.1716],\n",
       "          [ 0.0329,  0.0233, -0.1772,  ...,  0.2728, -0.0078, -0.1798]],\n",
       " \n",
       "         [[ 0.0886,  0.2304, -0.1846,  ...,  0.1869,  0.2206, -0.0605],\n",
       "          [-0.1690,  0.1456, -0.2158,  ...,  0.2257,  0.1591, -0.0590],\n",
       "          [-0.3045, -0.0169, -0.1033,  ...,  0.1812,  0.0508,  0.1105],\n",
       "          ...,\n",
       "          [-0.1169, -0.0593, -0.2815,  ..., -0.1114,  0.0194, -0.0631],\n",
       "          [-0.1748, -0.1149, -0.2760,  ...,  0.2956,  0.0954,  0.0679],\n",
       "          [-0.1354,  0.2771,  0.2518,  ...,  0.1307, -0.2590,  0.0150]]],\n",
       "        requires_grad=True), Parameter containing:\n",
       " tensor([0., 0., 0., 0., 0., 0., 0., 0., 0., 0., 0., 0., 0., 0., 0., 0., 0., 0., 0., 0., 0., 0., 0., 0.,\n",
       "         0., 0., 0., 0., 0., 0., 0., 0.], requires_grad=True), Parameter containing:\n",
       " tensor([[-3.4530e-03, -4.4088e-03,  3.8827e-03,  ..., -5.5070e-03,\n",
       "           1.3753e-03, -6.6722e-04],\n",
       "         [ 3.6464e-03, -5.6875e-03,  2.5802e-03,  ..., -3.2052e-03,\n",
       "           3.1963e-03,  3.7974e-03],\n",
       "         [-7.1844e-03,  1.1032e-03,  5.2947e-03,  ...,  4.1366e-03,\n",
       "          -2.0434e-03,  3.9926e-03],\n",
       "         ...,\n",
       "         [ 6.9719e-04,  7.4367e-03, -4.5257e-03,  ..., -5.2146e-03,\n",
       "          -2.4028e-03, -7.5127e-03],\n",
       "         [ 4.1842e-03, -3.4438e-03, -7.1376e-03,  ...,  3.2894e-03,\n",
       "          -4.7552e-03,  3.1429e-04],\n",
       "         [ 2.0232e-03, -7.2060e-03, -1.5459e-03,  ..., -1.9100e-03,\n",
       "          -6.7583e-03,  2.7567e-07]], requires_grad=True), Parameter containing:\n",
       " tensor([-5.3839e-03, -3.9214e-03, -4.8680e-03, -4.4599e-03, -6.0782e-03,\n",
       "          7.4490e-03, -5.4439e-03, -3.5759e-03,  4.5318e-03,  8.3564e-04,\n",
       "         -1.7109e-03,  1.0190e-03, -6.4485e-03, -5.9690e-04, -8.0940e-04,\n",
       "         -7.7808e-03,  5.0387e-03, -4.0419e-03, -1.2663e-03, -2.0307e-03,\n",
       "         -2.0150e-03, -2.6851e-03,  2.6344e-03, -1.6679e-03,  6.9258e-03,\n",
       "         -6.3750e-04,  4.2494e-03,  5.4842e-03,  4.5084e-03, -7.7159e-03,\n",
       "          4.4756e-03,  1.0189e-03,  5.0094e-03,  6.3540e-03,  3.2908e-03,\n",
       "         -3.3152e-03, -1.4524e-03,  3.1739e-03,  5.4669e-04,  1.0481e-03,\n",
       "          6.7209e-03,  8.6728e-05, -4.1682e-03,  3.9079e-03, -5.3805e-03,\n",
       "          3.0796e-03, -4.2193e-03,  5.7969e-03, -5.6510e-03,  3.5874e-03,\n",
       "          4.0954e-03, -7.1390e-03, -5.4201e-03,  7.1998e-03,  3.3186e-03,\n",
       "         -7.8085e-03, -3.5082e-03,  1.0953e-04,  5.4691e-03, -7.7186e-03,\n",
       "          5.6377e-03, -5.2743e-03,  5.9299e-03, -3.9543e-03, -1.6432e-03,\n",
       "          2.4603e-03,  2.6445e-04,  1.9713e-03, -2.6424e-03,  4.9144e-03,\n",
       "         -3.7381e-03,  6.2004e-03, -4.3953e-03, -8.6849e-04, -5.5456e-03,\n",
       "         -3.6067e-03,  4.3979e-03,  2.6533e-03, -3.7592e-03,  2.7225e-03,\n",
       "         -5.3106e-03,  6.8595e-03, -5.9339e-03,  6.7416e-03,  1.4408e-03,\n",
       "          6.8348e-03, -6.6607e-03, -2.8839e-03, -4.7923e-03,  3.1584e-03,\n",
       "          5.8995e-03, -2.1496e-03, -2.4025e-03,  3.4424e-03, -2.0975e-03,\n",
       "         -5.4982e-03,  4.1400e-03, -1.3698e-03, -7.5625e-03,  3.2695e-03,\n",
       "         -7.3479e-03,  7.7378e-03, -5.4897e-03, -4.9481e-03, -7.0398e-03,\n",
       "         -5.4758e-03,  2.9140e-03, -5.3416e-03,  2.9332e-03, -5.7385e-03,\n",
       "         -2.4318e-04,  1.5371e-04,  3.6697e-03,  8.9079e-04,  6.8927e-03,\n",
       "          4.7688e-03,  4.1069e-03,  2.0683e-03, -9.9575e-04, -2.2798e-04,\n",
       "         -8.4900e-05, -3.0872e-03,  4.8959e-04, -4.0748e-03, -8.9466e-04,\n",
       "         -7.0097e-04, -4.4742e-03, -5.7482e-03, -5.4393e-03,  3.4360e-03,\n",
       "          5.0361e-03, -1.8387e-03,  4.3164e-03,  1.1120e-03,  3.1631e-03,\n",
       "         -7.7968e-03,  6.6420e-03, -4.3672e-03,  4.2467e-03,  2.0189e-03,\n",
       "         -2.2188e-03, -1.3251e-03, -7.7286e-03, -3.6286e-03,  6.4139e-03,\n",
       "          5.1490e-03, -6.2561e-03,  4.2266e-03,  4.5304e-03, -7.1370e-03,\n",
       "         -4.5699e-03,  7.2566e-03,  5.1771e-03,  4.7222e-03,  4.0202e-04,\n",
       "         -6.2880e-03, -1.4731e-03, -4.7213e-03, -6.6280e-03,  6.5025e-03,\n",
       "          2.3045e-03, -2.7478e-03,  5.7271e-03, -3.8738e-03, -4.1225e-03,\n",
       "         -5.1818e-03,  7.7888e-03,  5.7345e-03,  2.0883e-03, -6.1117e-03,\n",
       "         -6.1958e-03,  6.9632e-03, -4.3768e-03,  4.6001e-03, -6.0591e-03,\n",
       "          9.7621e-04,  6.5138e-03, -5.3853e-03, -3.3163e-03, -1.4748e-03,\n",
       "          3.6778e-03, -3.8245e-03, -2.6768e-03,  4.3377e-03, -7.4592e-03,\n",
       "         -3.3196e-03,  3.8369e-03,  6.6365e-03,  5.4558e-04, -2.0344e-03,\n",
       "         -5.4720e-04, -5.3195e-03, -6.4811e-03, -4.2459e-03,  2.6619e-03,\n",
       "         -7.3235e-03, -3.4224e-03, -5.4636e-03,  1.8692e-03, -2.3560e-03,\n",
       "         -3.8776e-04, -3.1402e-03,  5.2990e-03,  1.7850e-03, -7.6023e-03,\n",
       "         -4.2952e-03,  5.2096e-04,  5.0970e-03, -3.9000e-03,  8.8621e-04,\n",
       "          4.6513e-03,  7.3562e-03,  1.2775e-03,  8.2027e-04, -2.4086e-03,\n",
       "          1.0341e-03, -3.0020e-03,  3.5800e-03, -4.6909e-03,  6.7637e-03,\n",
       "          4.3507e-03, -5.4687e-03,  1.1473e-03, -7.3365e-03, -1.1517e-03,\n",
       "          5.0507e-03,  7.0332e-03, -2.8542e-03, -7.4063e-03,  1.2124e-03,\n",
       "         -2.6988e-03, -3.6355e-03,  6.9115e-03, -1.2034e-03, -4.7926e-03,\n",
       "         -2.8311e-04,  2.3108e-03, -5.0690e-03,  3.4993e-03, -1.3277e-03,\n",
       "          5.5770e-03, -2.1420e-03, -5.1409e-03,  9.9280e-04,  4.5446e-03,\n",
       "          6.1887e-03,  1.3762e-03,  3.5683e-03, -7.6161e-03, -7.2307e-04,\n",
       "         -4.2814e-03, -3.0398e-03,  3.0551e-03,  1.2712e-03, -5.2176e-03,\n",
       "          1.1824e-03], requires_grad=True), Parameter containing:\n",
       " tensor([[ 0.0320, -0.0404, -0.0470,  ..., -0.0073,  0.0206,  0.0252],\n",
       "         [-0.0107,  0.0386,  0.0567,  ..., -0.0490,  0.0464, -0.0264],\n",
       "         [ 0.0315, -0.0004, -0.0578,  ...,  0.0062, -0.0166, -0.0518],\n",
       "         ...,\n",
       "         [-0.0300,  0.0279, -0.0091,  ...,  0.0101, -0.0123, -0.0258],\n",
       "         [ 0.0208,  0.0177,  0.0262,  ...,  0.0143, -0.0133, -0.0599],\n",
       "         [-0.0125,  0.0013, -0.0399,  ...,  0.0258,  0.0448,  0.0065]],\n",
       "        requires_grad=True), Parameter containing:\n",
       " tensor([ 0.0174, -0.0250,  0.0340,  0.0608, -0.0371, -0.0317,  0.0145, -0.0536,\n",
       "          0.0488,  0.0302, -0.0362,  0.0355,  0.0142, -0.0415,  0.0290,  0.0353,\n",
       "          0.0082, -0.0130,  0.0352,  0.0599, -0.0194,  0.0251,  0.0441, -0.0538,\n",
       "          0.0063, -0.0454, -0.0369,  0.0113, -0.0084, -0.0454, -0.0064,  0.0353,\n",
       "          0.0274,  0.0520, -0.0252,  0.0369, -0.0036, -0.0247, -0.0344, -0.0554,\n",
       "          0.0135,  0.0068, -0.0094,  0.0244,  0.0524,  0.0514, -0.0508, -0.0012,\n",
       "         -0.0511, -0.0182, -0.0373,  0.0124, -0.0238, -0.0360,  0.0296, -0.0376,\n",
       "          0.0430,  0.0288, -0.0185, -0.0552, -0.0427,  0.0085,  0.0237,  0.0120,\n",
       "         -0.0241, -0.0177, -0.0064, -0.0092, -0.0099, -0.0077, -0.0547,  0.0296,\n",
       "         -0.0536, -0.0476, -0.0208,  0.0118,  0.0113, -0.0220, -0.0435, -0.0065,\n",
       "         -0.0486,  0.0154,  0.0527,  0.0386,  0.0231,  0.0528,  0.0601,  0.0150,\n",
       "          0.0091, -0.0495,  0.0065, -0.0004,  0.0374, -0.0154, -0.0580,  0.0331,\n",
       "          0.0588, -0.0057, -0.0544,  0.0541,  0.0459, -0.0108, -0.0469, -0.0472,\n",
       "         -0.0612,  0.0473,  0.0279,  0.0584, -0.0514, -0.0582,  0.0366, -0.0432,\n",
       "          0.0235, -0.0507,  0.0274,  0.0583, -0.0248,  0.0453,  0.0542,  0.0198,\n",
       "         -0.0008, -0.0487, -0.0310,  0.0580, -0.0355,  0.0363,  0.0221,  0.0065],\n",
       "        requires_grad=True), Parameter containing:\n",
       " tensor([[ 0.0567,  0.0391, -0.0312, -0.0110, -0.0300,  0.0623,  0.0175,  0.0310,\n",
       "           0.0776,  0.0293,  0.0554,  0.0029, -0.0328,  0.0807, -0.0456,  0.0401,\n",
       "           0.0508,  0.0720, -0.0669, -0.0782, -0.0780, -0.0750, -0.0307, -0.0771,\n",
       "           0.0150, -0.0459, -0.0628,  0.0631, -0.0786, -0.0222,  0.0598, -0.0284,\n",
       "          -0.0686, -0.0813, -0.0303,  0.0186,  0.0810,  0.0812,  0.0695,  0.0801,\n",
       "           0.0814,  0.0389, -0.0758, -0.0252,  0.0094,  0.0024, -0.0446, -0.0730,\n",
       "           0.0560,  0.0711,  0.0434, -0.0553,  0.0455, -0.0715, -0.0816, -0.0059,\n",
       "          -0.0855, -0.0122, -0.0718,  0.0857,  0.0318,  0.0357,  0.0196, -0.0280,\n",
       "           0.0652,  0.0792,  0.0245,  0.0246, -0.0031,  0.0331, -0.0374, -0.0501,\n",
       "           0.0710, -0.0436,  0.0831,  0.0659, -0.0485, -0.0542, -0.0499, -0.0726,\n",
       "           0.0230,  0.0587, -0.0683, -0.0599,  0.0573,  0.0025,  0.0671, -0.0570,\n",
       "           0.0582,  0.0165, -0.0631,  0.0118,  0.0404,  0.0489, -0.0149, -0.0847,\n",
       "          -0.0552, -0.0441,  0.0017, -0.0240, -0.0509, -0.0424, -0.0522,  0.0077,\n",
       "          -0.0600, -0.0463, -0.0110,  0.0744, -0.0307,  0.0574, -0.0174, -0.0345,\n",
       "          -0.0716, -0.0700, -0.0558, -0.0054, -0.0752, -0.0724,  0.0589, -0.0551,\n",
       "           0.0097, -0.0228,  0.0074,  0.0481, -0.0157,  0.0209, -0.0171, -0.0626],\n",
       "         [-0.0863, -0.0410,  0.0098, -0.0684, -0.0472, -0.0855,  0.0865, -0.0825,\n",
       "           0.0833,  0.0803, -0.0147,  0.0739,  0.0078,  0.0343, -0.0611,  0.0054,\n",
       "           0.0410, -0.0829, -0.0442, -0.0604,  0.0381, -0.0682,  0.0514, -0.0379,\n",
       "           0.0018, -0.0013,  0.0822, -0.0411,  0.0077,  0.0426, -0.0207, -0.0672,\n",
       "           0.0670, -0.0041, -0.0535, -0.0042, -0.0478, -0.0502,  0.0498,  0.0005,\n",
       "          -0.0476,  0.0827,  0.0009, -0.0685,  0.0870,  0.0723,  0.0505,  0.0853,\n",
       "          -0.0216,  0.0449,  0.0581,  0.0388,  0.0542, -0.0138, -0.0323, -0.0706,\n",
       "           0.0324, -0.0503, -0.0039,  0.0741,  0.0241,  0.0715,  0.0357,  0.0094,\n",
       "          -0.0695,  0.0103, -0.0519,  0.0429,  0.0640,  0.0482, -0.0453, -0.0025,\n",
       "           0.0495,  0.0698,  0.0153, -0.0476, -0.0082, -0.0239,  0.0753, -0.0070,\n",
       "          -0.0543,  0.0569,  0.0356, -0.0450,  0.0764, -0.0425,  0.0205,  0.0786,\n",
       "          -0.0781, -0.0785, -0.0312, -0.0418,  0.0660,  0.0738,  0.0070, -0.0359,\n",
       "          -0.0398,  0.0822,  0.0750, -0.0138, -0.0785, -0.0237, -0.0098,  0.0809,\n",
       "           0.0808,  0.0107, -0.0787, -0.0553,  0.0215, -0.0604, -0.0748, -0.0091,\n",
       "           0.0230,  0.0663,  0.0029, -0.0315,  0.0442, -0.0329,  0.0237, -0.0176,\n",
       "           0.0622, -0.0282,  0.0042,  0.0705, -0.0020, -0.0773,  0.0424, -0.0296]],\n",
       "        requires_grad=True), Parameter containing:\n",
       " tensor([0.0147, 0.0554], requires_grad=True)]"
      ]
     },
     "execution_count": 20,
     "metadata": {},
     "output_type": "execute_result"
    }
   ],
   "source": [
    "list(gcn.parameters())\n",
    "gcn2 = gcn_package.models.gcn.YuGCN(graph.edge_index, graph.edge_attr, n_timepoints=window_length, n_roi=num_parcels, n_classes=2)\n",
    "list(gcn2.parameters())\n"
   ]
  },
  {
   "cell_type": "markdown",
   "metadata": {},
   "source": [
    "# Training"
   ]
  },
  {
   "cell_type": "code",
   "execution_count": 16,
   "metadata": {},
   "outputs": [],
   "source": [
    "def train_loop(dataloader, model, loss_fn, optimizer):\n",
    "    size = len(dataloader.dataset)\n",
    "    for batch, (X, y) in enumerate(dataloader):\n",
    "        # Compute prediction and loss\n",
    "        pred = model(X)\n",
    "        loss = loss_fn(pred, y)\n",
    "\n",
    "        # Backpropagation\n",
    "        optimizer.zero_grad()\n",
    "        loss.backward()\n",
    "        optimizer.step()\n",
    "\n",
    "        loss, current = loss.item(), batch * dataloader.batch_size\n",
    "        correct = (pred.argmax(dim=1) == y).type(torch.float).sum().item()\n",
    "        correct /= X.shape[0]\n",
    "        print(f\"#{batch:<2}\\t\\ttrain_loss: {loss:>0.3f};\\ttrain_accuracy: {(100*correct):>5.1f}%\\t\\t[{current:>5d}/{size:>5d}]\")\n",
    "\n",
    "def valid_test_loop(dataloader, model, loss_fn):\n",
    "    size = len(dataloader.dataset)\n",
    "    loss, correct = 0, 0\n",
    "\n",
    "    with torch.no_grad():\n",
    "        for X, y in dataloader:\n",
    "            pred = model.forward(X)\n",
    "            loss += loss_fn(pred, y).item()\n",
    "            correct += (pred.argmax(dim=1) == y).type(torch.float).sum().item()\n",
    "\n",
    "    loss /= size\n",
    "    correct /= size\n",
    "\n",
    "    return loss, correct"
   ]
  },
  {
   "cell_type": "code",
   "execution_count": 17,
   "metadata": {
    "tags": [
     "outputPrepend"
    ]
   },
   "outputs": [
    {
     "ename": "ValueError",
     "evalue": "optimizer got an empty parameter list",
     "output_type": "error",
     "traceback": [
      "\u001b[0;31m---------------------------------------------------------------------------\u001b[0m",
      "\u001b[0;31mValueError\u001b[0m                                Traceback (most recent call last)",
      "\u001b[0;32m<ipython-input-17-46070823beaf>\u001b[0m in \u001b[0;36m<module>\u001b[0;34m\u001b[0m\n\u001b[1;32m      1\u001b[0m \u001b[0;31m# Train and evaluate the model\u001b[0m\u001b[0;34m\u001b[0m\u001b[0;34m\u001b[0m\u001b[0;34m\u001b[0m\u001b[0m\n\u001b[1;32m      2\u001b[0m \u001b[0mloss_fn\u001b[0m \u001b[0;34m=\u001b[0m \u001b[0mtorch\u001b[0m\u001b[0;34m.\u001b[0m\u001b[0mnn\u001b[0m\u001b[0;34m.\u001b[0m\u001b[0mCrossEntropyLoss\u001b[0m\u001b[0;34m(\u001b[0m\u001b[0;34m)\u001b[0m\u001b[0;34m\u001b[0m\u001b[0;34m\u001b[0m\u001b[0m\n\u001b[0;32m----> 3\u001b[0;31m \u001b[0moptimizer\u001b[0m \u001b[0;34m=\u001b[0m \u001b[0mtorch\u001b[0m\u001b[0;34m.\u001b[0m\u001b[0moptim\u001b[0m\u001b[0;34m.\u001b[0m\u001b[0mAdam\u001b[0m\u001b[0;34m(\u001b[0m\u001b[0mgcn\u001b[0m\u001b[0;34m.\u001b[0m\u001b[0mparameters\u001b[0m\u001b[0;34m(\u001b[0m\u001b[0;34m)\u001b[0m\u001b[0;34m,\u001b[0m \u001b[0mlr\u001b[0m\u001b[0;34m=\u001b[0m\u001b[0;36m1e-4\u001b[0m\u001b[0;34m,\u001b[0m \u001b[0mweight_decay\u001b[0m\u001b[0;34m=\u001b[0m\u001b[0;36m5e-4\u001b[0m\u001b[0;34m)\u001b[0m\u001b[0;34m\u001b[0m\u001b[0;34m\u001b[0m\u001b[0m\n\u001b[0m\u001b[1;32m      4\u001b[0m \u001b[0;34m\u001b[0m\u001b[0m\n\u001b[1;32m      5\u001b[0m \u001b[0mepochs\u001b[0m \u001b[0;34m=\u001b[0m \u001b[0;36m15\u001b[0m\u001b[0;34m\u001b[0m\u001b[0;34m\u001b[0m\u001b[0m\n",
      "\u001b[0;32m~/.local/lib/python3.6/site-packages/torch/optim/adam.py\u001b[0m in \u001b[0;36m__init__\u001b[0;34m(self, params, lr, betas, eps, weight_decay, amsgrad)\u001b[0m\n\u001b[1;32m     46\u001b[0m         defaults = dict(lr=lr, betas=betas, eps=eps,\n\u001b[1;32m     47\u001b[0m                         weight_decay=weight_decay, amsgrad=amsgrad)\n\u001b[0;32m---> 48\u001b[0;31m         \u001b[0msuper\u001b[0m\u001b[0;34m(\u001b[0m\u001b[0mAdam\u001b[0m\u001b[0;34m,\u001b[0m \u001b[0mself\u001b[0m\u001b[0;34m)\u001b[0m\u001b[0;34m.\u001b[0m\u001b[0m__init__\u001b[0m\u001b[0;34m(\u001b[0m\u001b[0mparams\u001b[0m\u001b[0;34m,\u001b[0m \u001b[0mdefaults\u001b[0m\u001b[0;34m)\u001b[0m\u001b[0;34m\u001b[0m\u001b[0;34m\u001b[0m\u001b[0m\n\u001b[0m\u001b[1;32m     49\u001b[0m \u001b[0;34m\u001b[0m\u001b[0m\n\u001b[1;32m     50\u001b[0m     \u001b[0;32mdef\u001b[0m \u001b[0m__setstate__\u001b[0m\u001b[0;34m(\u001b[0m\u001b[0mself\u001b[0m\u001b[0;34m,\u001b[0m \u001b[0mstate\u001b[0m\u001b[0;34m)\u001b[0m\u001b[0;34m:\u001b[0m\u001b[0;34m\u001b[0m\u001b[0;34m\u001b[0m\u001b[0m\n",
      "\u001b[0;32m~/.local/lib/python3.6/site-packages/torch/optim/optimizer.py\u001b[0m in \u001b[0;36m__init__\u001b[0;34m(self, params, defaults)\u001b[0m\n\u001b[1;32m     48\u001b[0m         \u001b[0mparam_groups\u001b[0m \u001b[0;34m=\u001b[0m \u001b[0mlist\u001b[0m\u001b[0;34m(\u001b[0m\u001b[0mparams\u001b[0m\u001b[0;34m)\u001b[0m\u001b[0;34m\u001b[0m\u001b[0;34m\u001b[0m\u001b[0m\n\u001b[1;32m     49\u001b[0m         \u001b[0;32mif\u001b[0m \u001b[0mlen\u001b[0m\u001b[0;34m(\u001b[0m\u001b[0mparam_groups\u001b[0m\u001b[0;34m)\u001b[0m \u001b[0;34m==\u001b[0m \u001b[0;36m0\u001b[0m\u001b[0;34m:\u001b[0m\u001b[0;34m\u001b[0m\u001b[0;34m\u001b[0m\u001b[0m\n\u001b[0;32m---> 50\u001b[0;31m             \u001b[0;32mraise\u001b[0m \u001b[0mValueError\u001b[0m\u001b[0;34m(\u001b[0m\u001b[0;34m\"optimizer got an empty parameter list\"\u001b[0m\u001b[0;34m)\u001b[0m\u001b[0;34m\u001b[0m\u001b[0;34m\u001b[0m\u001b[0m\n\u001b[0m\u001b[1;32m     51\u001b[0m         \u001b[0;32mif\u001b[0m \u001b[0;32mnot\u001b[0m \u001b[0misinstance\u001b[0m\u001b[0;34m(\u001b[0m\u001b[0mparam_groups\u001b[0m\u001b[0;34m[\u001b[0m\u001b[0;36m0\u001b[0m\u001b[0;34m]\u001b[0m\u001b[0;34m,\u001b[0m \u001b[0mdict\u001b[0m\u001b[0;34m)\u001b[0m\u001b[0;34m:\u001b[0m\u001b[0;34m\u001b[0m\u001b[0;34m\u001b[0m\u001b[0m\n\u001b[1;32m     52\u001b[0m             \u001b[0mparam_groups\u001b[0m \u001b[0;34m=\u001b[0m \u001b[0;34m[\u001b[0m\u001b[0;34m{\u001b[0m\u001b[0;34m'params'\u001b[0m\u001b[0;34m:\u001b[0m \u001b[0mparam_groups\u001b[0m\u001b[0;34m}\u001b[0m\u001b[0;34m]\u001b[0m\u001b[0;34m\u001b[0m\u001b[0;34m\u001b[0m\u001b[0m\n",
      "\u001b[0;31mValueError\u001b[0m: optimizer got an empty parameter list"
     ]
    }
   ],
   "source": [
    "# Train and evaluate the model\n",
    "loss_fn = torch.nn.CrossEntropyLoss()\n",
    "optimizer = torch.optim.Adam(gcn.parameters(), lr=1e-4, weight_decay=5e-4)\n",
    "\n",
    "epochs = 15\n",
    "for t in range(epochs):\n",
    "    print(f\"Epoch {t+1}/{epochs}\\n-------------------------------\")\n",
    "    train_loop(train_generator, gcn, loss_fn, optimizer)\n",
    "    loss, correct = valid_test_loop(valid_generator, gcn, loss_fn)\n",
    "    print(f\"Valid metrics:\\n\\t avg_loss: {loss:>8f};\\t avg_accuracy: {(100*correct):>0.1f}%\")\n",
    "print(\"Done!\")"
   ]
  },
  {
   "cell_type": "markdown",
   "metadata": {},
   "source": [
    "# Test"
   ]
  },
  {
   "cell_type": "code",
   "execution_count": 13,
   "metadata": {},
   "outputs": [
    {
     "name": "stdout",
     "output_type": "stream",
     "text": [
      "Test metrics:\n",
      "\t avg_loss: 0.057387;\t avg_accuracy: 45.5%\n"
     ]
    }
   ],
   "source": [
    "loss, correct = valid_test_loop(test_generator, gcn, loss_fn)\n",
    "print(f\"Test metrics:\\n\\t avg_loss: {loss:>8f};\\t avg_accuracy: {(100*correct):>0.1f}%\")"
   ]
  },
  {
   "cell_type": "code",
   "execution_count": 14,
   "metadata": {},
   "outputs": [
    {
     "name": "stdout",
     "output_type": "stream",
     "text": [
      "torch.Size([16, 512, 50])\n",
      "torch.Size([16])\n",
      "<class 'torch.Tensor'>\n",
      "<class 'torch.Tensor'>\n",
      "torch.Size([16, 512, 50])\n",
      "torch.Size([16])\n",
      "<class 'torch.Tensor'>\n",
      "<class 'torch.Tensor'>\n",
      "torch.Size([12, 512, 50])\n",
      "torch.Size([12])\n",
      "<class 'torch.Tensor'>\n",
      "<class 'torch.Tensor'>\n"
     ]
    }
   ],
   "source": [
    "for X, y in test_generator:\n",
    "    print(X.shape)\n",
    "    print(y.shape)\n",
    "    print(type(X[0]))\n",
    "    print(type(y[0]))"
   ]
  },
  {
   "cell_type": "markdown",
   "metadata": {},
   "source": [
    "# Model saving"
   ]
  },
  {
   "cell_type": "code",
   "execution_count": 16,
   "metadata": {},
   "outputs": [],
   "source": [
    "torch.save(gcn.state_dict(), model_path)"
   ]
  },
  {
   "cell_type": "markdown",
   "metadata": {},
   "source": [
    "# PCA visualization"
   ]
  },
  {
   "cell_type": "code",
   "execution_count": 17,
   "metadata": {},
   "outputs": [
    {
     "name": "stderr",
     "output_type": "stream",
     "text": [
      "/home/ltetrel/.local/lib/python3.6/site-packages/sklearn/preprocessing/data.py:189: UserWarning: Numerical issues were encountered when scaling the data and might not be solved. The standard deviation of the data is probably very close to 0. \n",
      "  warnings.warn(\"Numerical issues were encountered \"\n"
     ]
    },
    {
     "data": {
      "image/png": "[encoded data removed]",
      "text/plain": [
       "<Figure size 432x288 with 1 Axes>"
      ]
     },
     "metadata": {
      "needs_background": "light"
     },
     "output_type": "display_data"
    }
   ],
   "source": [
    "gcn_package.visualization.visualize.vizualize_weights(gcn, \"fc3\")"
   ]
  },
  {
   "cell_type": "code",
   "execution_count": 18,
   "metadata": {},
   "outputs": [
    {
     "data": {
      "image/png": "[encoded data removed]",
      "text/plain": [
       "<Figure size 432x288 with 1 Axes>"
      ]
     },
     "metadata": {
      "needs_background": "light"
     },
     "output_type": "display_data"
    }
   ],
   "source": [
    "gcn_package.visualization.visualize.visualize_activation(gcn, train_generator, \"fc3\")"
   ]
  },
  {
   "cell_type": "code",
   "execution_count": null,
   "metadata": {},
   "outputs": [],
   "source": []
  }
 ],
 "metadata": {
  "interpreter": {
   "hash": "767d51c1340bd893661ea55ea3124f6de3c7a262a8b4abca0554b478b1e2ff90"
  },
  "kernelspec": {
   "display_name": "Python 3",
   "language": "python",
   "name": "python3"
  },
  "language_info": {
   "codemirror_mode": {
    "name": "ipython",
    "version": 3
   },
   "file_extension": ".py",
   "mimetype": "text/x-python",
   "name": "python",
   "nbconvert_exporter": "python",
   "pygments_lexer": "ipython3",
   "version": "3.6.9"
  },
  "varInspector": {
   "cols": {
    "lenName": 16,
    "lenType": 16,
    "lenVar": 40
   },
   "kernels_config": {
    "python": {
     "delete_cmd_postfix": "",
     "delete_cmd_prefix": "del ",
     "library": "var_list.py",
     "varRefreshCmd": "print(var_dic_list())"
    },
    "r": {
     "delete_cmd_postfix": ") ",
     "delete_cmd_prefix": "rm(",
     "library": "var_list.r",
     "varRefreshCmd": "cat(var_dic_list()) "
    }
   },
   "types_to_exclude": [
    "module",
    "function",
    "builtin_function_or_method",
    "instance",
    "_Feature"
   ],
   "window_display": false
  }
 },
 "nbformat": 4,
 "nbformat_minor": 2
}

{
 "cells": [
  {
   "cell_type": "code",
   "execution_count": 1,
   "metadata": {},
   "outputs": [
    {
     "name": "stderr",
     "output_type": "stream",
     "text": [
      "/home/ltetrel/.local/lib/python3.6/site-packages/nilearn/datasets/__init__.py:89: FutureWarning: Fetchers from the nilearn.datasets module will be updated in version 0.9 to return python strings instead of bytes and Pandas dataframes instead of Numpy arrays.\n",
      "  \"Numpy arrays.\", FutureWarning)\n"
     ]
    },
    {
     "name": "stdout",
     "output_type": "stream",
     "text": [
      "torch v1.8.1+cpu\n",
      "nilearn v0.8.0\n",
      "gcn_package v0.1.0\n"
     ]
    }
   ],
   "source": [
    "import os\n",
    "import sys\n",
    "import torch\n",
    "import nilearn as nil\n",
    "import nilearn.datasets\n",
    "import nilearn.connectome\n",
    "import nilearn.input_data\n",
    "sys.path.append(os.path.join(\"..\"))\n",
    "import gcn_package\n",
    "import gcn_package.data.raw_data_loader\n",
    "import gcn_package.data.time_windows_dataset\n",
    "import gcn_package.features.graph_construction\n",
    "import gcn_package.models.gcn\n",
    "import gcn_package.visualization.visualize\n",
    "\n",
    "print(\"torch v{}\".format(torch.__version__))\n",
    "print(\"nilearn v{}\".format(nil.__version__))\n",
    "print(\"gcn_package v{}\".format(gcn_package.__version__))"
   ]
  },
  {
   "cell_type": "markdown",
   "metadata": {},
   "source": [
    "# Initial parameters"
   ]
  },
  {
   "cell_type": "code",
   "execution_count": 2,
   "metadata": {},
   "outputs": [],
   "source": [
    "# parameters\n",
    "num_parcels = 512 # number of parcels (nodes) to keep for the graph\n",
    "window_length = 50 #number of timepoints per sample (timeserie)\n",
    "zero_padding = True #pad splitted timeseries with zeros, or remove incomplete\n",
    "random_seed = 0 # fix random state for dat ageneration, and pytorch fit\n",
    "# paths\n",
    "model_path = os.path.join(\"..\", \"models\", \"gcn_test.pt\")\n",
    "raw_dir = os.path.join(\"..\", \"data\", \"raw\")\n",
    "data_dir = os.path.join(\"..\", \"data\", \"processed\", f\"cobre_difumo{num_parcels}\")\n",
    "ts_out = os.path.join(data_dir, \"timeseries\")\n",
    "conn_out = os.path.join(data_dir, \"connectomes\")\n",
    "\n",
    "if not os.path.exists(ts_out):\n",
    "    os.makedirs(ts_out)\n",
    "if not os.path.exists(conn_out):\n",
    "    os.makedirs(conn_out)"
   ]
  },
  {
   "cell_type": "markdown",
   "metadata": {},
   "source": [
    "# Dataset fetching and connectomes generation"
   ]
  },
  {
   "cell_type": "code",
   "execution_count": 3,
   "metadata": {},
   "outputs": [
    {
     "name": "stderr",
     "output_type": "stream",
     "text": [
      "/home/ltetrel/.local/lib/python3.6/site-packages/numpy/lib/npyio.py:2349: VisibleDeprecationWarning: Reading unicode strings without specifying the encoding argument is deprecated. Set the encoding, use None for the system default.\n",
      "  output = genfromtxt(fname, **kwargs)\n",
      "/home/ltetrel/.local/lib/python3.6/site-packages/sklearn/utils/deprecation.py:85: DeprecationWarning: Function fetch_cobre is deprecated; 'fetch_cobre' has been deprecated and will be removed in release 0.9 . Please consider using a different datasets or downloading it with a different tool than nilearn.\n",
      "  warnings.warn(msg, category=DeprecationWarning)\n"
     ]
    }
   ],
   "source": [
    "# Fetching atlas\n",
    "atlas = nil.datasets.fetch_atlas_difumo(data_dir=raw_dir, dimension=num_parcels)\n",
    "atlas_filename = atlas['maps']\n",
    "atlas_labels = atlas['labels']\n",
    "\n",
    "# Fetching data\n",
    "data = nil.datasets.fetch_cobre(data_dir=raw_dir, n_subjects=None) #all subs"
   ]
  },
  {
   "cell_type": "code",
   "execution_count": 4,
   "metadata": {},
   "outputs": [],
   "source": [
    "# Estimating connectomes\n",
    "# import numpy as np\n",
    "\n",
    "# masker = nil.input_data.NiftiMapsMasker(maps_img=atlas['maps'], standardize=True, verbose=5)\n",
    "# corr_measure = nil.connectome.ConnectivityMeasure(kind=\"correlation\")\n",
    "\n",
    "# for i in range(len(data.func)):\n",
    "#     ts = masker.fit_transform(data.func[i], confounds=data.confounds[i])\n",
    "#     conn = corr_measure.fit_transform([ts])[0]\n",
    "#     sub_num = os.path.basename(data.func[i]).split('.')[0].split('_')[1]\n",
    "#     np.save(os.path.join(ts_out, \"timeseries_{}_difumo_{}.npy\".format(sub_num, num_parcels)), ts)\n",
    "#     np.save(os.path.join(conn_out, \"conn_{}_difumo_{}.npy\".format(sub_num, num_parcels)), conn)\n",
    "#     print(\"Done {}/146\".format(i+1))"
   ]
  },
  {
   "cell_type": "markdown",
   "metadata": {},
   "source": [
    "# Data generator"
   ]
  },
  {
   "cell_type": "code",
   "execution_count": 5,
   "metadata": {},
   "outputs": [],
   "source": [
    "# Preparing data for generator\n",
    "# this include timeseries loading, splitting and labeling\n",
    "pheno_path = os.path.join(raw_dir, \"cobre\", \"phenotypic_data.tsv\")\n",
    "split_dir = os.path.join(\"..\", \"data\", \"interim\")"
   ]
  },
  {
   "cell_type": "code",
   "execution_count": 6,
   "metadata": {},
   "outputs": [],
   "source": [
    "# remove previous content\n",
    "if os.path.exists(split_dir):\n",
    "    import glob\n",
    "\n",
    "    files = glob.glob(os.path.join(split_dir, \"[^.gitkeep]*\"))\n",
    "    for f in files:\n",
    "        os.remove(f)"
   ]
  },
  {
   "cell_type": "code",
   "execution_count": 7,
   "metadata": {},
   "outputs": [
    {
     "name": "stderr",
     "output_type": "stream",
     "text": [
      "../simexp_gcn/data/raw_data_loader.py:103: UserWarning: Different shapes for sub ID(s): ['40075']\n",
      "  warnings.warn(\"Different shapes for sub ID(s): {}\".format(non_valid_ids))\n"
     ]
    }
   ],
   "source": [
    "RawDataLoad = simexp_gcn.data.raw_data_loader.RawDataLoader(\n",
    "    num_nodes = num_parcels\n",
    "    , ts_dir=ts_out\n",
    "    , conn_dir=conn_out\n",
    "    , pheno_path=pheno_path)\n",
    "RawDataLoad.split_timeseries_and_save(window_length=window_length, zero_padding=zero_padding, output_dir=split_dir)"
   ]
  },
  {
   "cell_type": "code",
   "execution_count": 10,
   "metadata": {},
   "outputs": [
    {
     "data": {
      "text/plain": [
       "(150, 512)"
      ]
     },
     "execution_count": 10,
     "metadata": {},
     "output_type": "execute_result"
    }
   ],
   "source": [
    "RawDataLoad.get_valid_timeseries()[0].shape"
   ]
  },
  {
   "cell_type": "code",
   "execution_count": 8,
   "metadata": {},
   "outputs": [
    {
     "name": "stdout",
     "output_type": "stream",
     "text": [
      "train dataset: 304*(torch.Size([512, 50]), ())\n",
      "valid dataset: 87*(torch.Size([512, 50]), ())\n",
      "test dataset: 44*(torch.Size([512, 50]), ())\n"
     ]
    }
   ],
   "source": [
    "# Pytorch dataset: generates items from the current data directory\n",
    "train_dataset = simexp_gcn.data.time_windows_dataset.TimeWindowsDataset(\n",
    "    data_dir=split_dir\n",
    "    , partition=\"train\"\n",
    "    , random_seed=random_seed\n",
    "    , pin_memory=True\n",
    "    , normalize=True)\n",
    "valid_dataset = simexp_gcn.data.time_windows_dataset.TimeWindowsDataset(\n",
    "    data_dir=split_dir\n",
    "    , partition=\"valid\"\n",
    "    , random_seed=random_seed\n",
    "    , pin_memory=True\n",
    "    , normalize=True)\n",
    "test_dataset = simexp_gcn.data.time_windows_dataset.TimeWindowsDataset(\n",
    "    data_dir=split_dir\n",
    "    , partition=\"test\"\n",
    "    , random_seed=random_seed\n",
    "    , pin_memory=True\n",
    "    , normalize=True)\n",
    "print(\"train dataset: {}\".format(train_dataset))\n",
    "print(\"valid dataset: {}\".format(valid_dataset))\n",
    "print(\"test dataset: {}\".format(test_dataset))"
   ]
  },
  {
   "cell_type": "code",
   "execution_count": 9,
   "metadata": {},
   "outputs": [
    {
     "name": "stdout",
     "output_type": "stream",
     "text": [
      "Feature batch shape: torch.Size([16, 512, 50]); mean 1.210719302591201e-09\n",
      "Labels batch shape: torch.Size([16]); mean 0.5625\n"
     ]
    }
   ],
   "source": [
    "# Pytorch dataloader: wraps an iterable around the pytorch dataset to shuffle and generate (in parrallel) minibatches\n",
    "#setting pytoch seed for reproducible torch.utils.data.DataLoader\n",
    "torch.manual_seed(random_seed)\n",
    "train_generator = torch.utils.data.DataLoader(train_dataset, batch_size=16, shuffle=True)\n",
    "valid_generator = torch.utils.data.DataLoader(valid_dataset, batch_size=16, shuffle=True)\n",
    "test_generator = torch.utils.data.DataLoader(test_dataset, batch_size=16, shuffle=True)\n",
    "train_features, train_labels = next(iter(train_generator))\n",
    "print(f\"Feature batch shape: {train_features.size()}; mean {torch.mean(train_features)}\")\n",
    "print(f\"Labels batch shape: {train_labels.size()}; mean {torch.mean(torch.Tensor.float(train_labels))}\")"
   ]
  },
  {
   "cell_type": "markdown",
   "metadata": {},
   "source": [
    "# Model definition"
   ]
  },
  {
   "cell_type": "code",
   "execution_count": 10,
   "metadata": {},
   "outputs": [
    {
     "data": {
      "text/plain": [
       "LoicGCN(\n",
       "  (conv1): ChebConv(50, 32, K=2, normalization=sym)\n",
       "  (conv2): ChebConv(32, 32, K=2, normalization=sym)\n",
       "  (conv3): ChebConv(32, 16, K=2, normalization=sym)\n",
       "  (fc1): Linear(in_features=8192, out_features=256, bias=True)\n",
       "  (fc2): Linear(in_features=256, out_features=128, bias=True)\n",
       "  (fc3): Linear(in_features=128, out_features=2, bias=True)\n",
       "  (dropout): Dropout(p=0.2, inplace=False)\n",
       ")"
      ]
     },
     "execution_count": 10,
     "metadata": {},
     "output_type": "execute_result"
    }
   ],
   "source": [
    "# model definition\n",
    "# get average connectome with its k-nearest neighbors\n",
    "connectomes = RawDataLoad.get_valid_connectomes()\n",
    "graph = simexp_gcn.features.graph_construction.make_group_graph(connectomes, k=8, self_loops=False, symmetric=True)\n",
    "# Create model\n",
    "gcn = simexp_gcn.models.gcn.LoicGCN(graph.edge_index, graph.edge_attr, n_timepoints=window_length)\n",
    "gcn"
   ]
  },
  {
   "cell_type": "markdown",
   "metadata": {},
   "source": [
    "# Training"
   ]
  },
  {
   "cell_type": "code",
   "execution_count": 11,
   "metadata": {},
   "outputs": [],
   "source": [
    "def train_loop(dataloader, model, loss_fn, optimizer):\n",
    "    size = len(dataloader.dataset)\n",
    "    for batch, (X, y) in enumerate(dataloader):\n",
    "        # Compute prediction and loss\n",
    "        pred = model(X)\n",
    "        loss = loss_fn(pred, y)\n",
    "\n",
    "        # Backpropagation\n",
    "        optimizer.zero_grad()\n",
    "        loss.backward()\n",
    "        optimizer.step()\n",
    "\n",
    "        loss, current = loss.item(), batch * dataloader.batch_size\n",
    "        correct = (pred.argmax(dim=1) == y).type(torch.float).sum().item()\n",
    "        correct /= X.shape[0]\n",
    "        print(f\"#{batch:<2}\\t\\ttrain_loss: {loss:>0.3f};\\ttrain_accuracy: {(100*correct):>5.1f}%\\t\\t[{current:>5d}/{size:>5d}]\")\n",
    "\n",
    "def valid_test_loop(dataloader, model, loss_fn):\n",
    "    size = len(dataloader.dataset)\n",
    "    loss, correct = 0, 0\n",
    "\n",
    "    with torch.no_grad():\n",
    "        for X, y in dataloader:\n",
    "            pred = model.forward(X)\n",
    "            loss += loss_fn(pred, y).item()\n",
    "            correct += (pred.argmax(dim=1) == y).type(torch.float).sum().item()\n",
    "\n",
    "    loss /= size\n",
    "    correct /= size\n",
    "\n",
    "    return loss, correct"
   ]
  },
  {
   "cell_type": "code",
   "execution_count": 12,
   "metadata": {
    "tags": [
     "outputPrepend"
    ]
   },
   "outputs": [
    {
     "name": "stdout",
     "output_type": "stream",
     "text": [
      "Epoch 1/1\n",
      "-------------------------------\n",
      "#0 \t\ttrain_loss: 0.826;\ttrain_accuracy:  37.5%\t\t[    0/  304]\n",
      "#1 \t\ttrain_loss: 0.507;\ttrain_accuracy:  81.2%\t\t[   16/  304]\n",
      "#2 \t\ttrain_loss: 1.492;\ttrain_accuracy:  50.0%\t\t[   32/  304]\n",
      "#3 \t\ttrain_loss: 0.709;\ttrain_accuracy:  56.2%\t\t[   48/  304]\n",
      "#4 \t\ttrain_loss: 0.819;\ttrain_accuracy:  56.2%\t\t[   64/  304]\n",
      "#5 \t\ttrain_loss: 2.008;\ttrain_accuracy:  31.2%\t\t[   80/  304]\n",
      "#6 \t\ttrain_loss: 1.182;\ttrain_accuracy:  25.0%\t\t[   96/  304]\n",
      "#7 \t\ttrain_loss: 0.791;\ttrain_accuracy:  56.2%\t\t[  112/  304]\n",
      "#8 \t\ttrain_loss: 1.291;\ttrain_accuracy:  31.2%\t\t[  128/  304]\n",
      "#9 \t\ttrain_loss: 0.971;\ttrain_accuracy:  62.5%\t\t[  144/  304]\n",
      "#10\t\ttrain_loss: 1.031;\ttrain_accuracy:  50.0%\t\t[  160/  304]\n",
      "#11\t\ttrain_loss: 0.659;\ttrain_accuracy:  56.2%\t\t[  176/  304]\n",
      "#12\t\ttrain_loss: 0.793;\ttrain_accuracy:  43.8%\t\t[  192/  304]\n",
      "#13\t\ttrain_loss: 0.754;\ttrain_accuracy:  50.0%\t\t[  208/  304]\n",
      "#14\t\ttrain_loss: 0.866;\ttrain_accuracy:  37.5%\t\t[  224/  304]\n",
      "#15\t\ttrain_loss: 0.676;\ttrain_accuracy:  68.8%\t\t[  240/  304]\n",
      "#16\t\ttrain_loss: 1.359;\ttrain_accuracy:  25.0%\t\t[  256/  304]\n",
      "#17\t\ttrain_loss: 0.641;\ttrain_accuracy:  68.8%\t\t[  272/  304]\n",
      "#18\t\ttrain_loss: 0.870;\ttrain_accuracy:  37.5%\t\t[  288/  304]\n",
      "Valid metrics:\n",
      "\t avg_loss: 0.057372;\t avg_accuracy: 43.7%\n",
      "Done!\n"
     ]
    }
   ],
   "source": [
    "# Train and evaluate the model\n",
    "loss_fn = torch.nn.CrossEntropyLoss()\n",
    "optimizer = torch.optim.Adam(gcn.parameters(), lr=1e-4, weight_decay=5e-4)\n",
    "\n",
    "epochs = 15\n",
    "for t in range(epochs):\n",
    "    print(f\"Epoch {t+1}/{epochs}\\n-------------------------------\")\n",
    "    train_loop(train_generator, gcn, loss_fn, optimizer)\n",
    "    loss, correct = valid_test_loop(valid_generator, gcn, loss_fn)\n",
    "    print(f\"Valid metrics:\\n\\t avg_loss: {loss:>8f};\\t avg_accuracy: {(100*correct):>0.1f}%\")\n",
    "print(\"Done!\")"
   ]
  },
  {
   "cell_type": "markdown",
   "metadata": {},
   "source": [
    "# Test"
   ]
  },
  {
   "cell_type": "code",
   "execution_count": 13,
   "metadata": {},
   "outputs": [
    {
     "name": "stdout",
     "output_type": "stream",
     "text": [
      "Test metrics:\n",
      "\t avg_loss: 0.057387;\t avg_accuracy: 45.5%\n"
     ]
    }
   ],
   "source": [
    "loss, correct = valid_test_loop(test_generator, gcn, loss_fn)\n",
    "print(f\"Test metrics:\\n\\t avg_loss: {loss:>8f};\\t avg_accuracy: {(100*correct):>0.1f}%\")"
   ]
  },
  {
   "cell_type": "code",
   "execution_count": 14,
   "metadata": {},
   "outputs": [
    {
     "name": "stdout",
     "output_type": "stream",
     "text": [
      "torch.Size([16, 512, 50])\n",
      "torch.Size([16])\n",
      "<class 'torch.Tensor'>\n",
      "<class 'torch.Tensor'>\n",
      "torch.Size([16, 512, 50])\n",
      "torch.Size([16])\n",
      "<class 'torch.Tensor'>\n",
      "<class 'torch.Tensor'>\n",
      "torch.Size([12, 512, 50])\n",
      "torch.Size([12])\n",
      "<class 'torch.Tensor'>\n",
      "<class 'torch.Tensor'>\n"
     ]
    }
   ],
   "source": [
    "for X, y in test_generator:\n",
    "    print(X.shape)\n",
    "    print(y.shape)\n",
    "    print(type(X[0]))\n",
    "    print(type(y[0]))"
   ]
  },
  {
   "cell_type": "markdown",
   "metadata": {},
   "source": [
    "# Model saving"
   ]
  },
  {
   "cell_type": "code",
   "execution_count": 16,
   "metadata": {},
   "outputs": [],
   "source": [
    "torch.save(gcn.state_dict(), model_path)"
   ]
  },
  {
   "cell_type": "markdown",
   "metadata": {},
   "source": [
    "# PCA visualization"
   ]
  },
  {
   "cell_type": "code",
   "execution_count": 17,
   "metadata": {},
   "outputs": [
    {
     "name": "stderr",
     "output_type": "stream",
     "text": [
      "/home/ltetrel/.local/lib/python3.6/site-packages/sklearn/preprocessing/data.py:189: UserWarning: Numerical issues were encountered when scaling the data and might not be solved. The standard deviation of the data is probably very close to 0. \n",
      "  warnings.warn(\"Numerical issues were encountered \"\n"
     ]
    },
    {
     "data": {
      "image/png": "[encoded data removed]",
      "text/plain": [
       "<Figure size 432x288 with 1 Axes>"
      ]
     },
     "metadata": {
      "needs_background": "light"
     },
     "output_type": "display_data"
    }
   ],
   "source": [
    "simexp_gcn.visualization.visualize.vizualize_weights(gcn, \"fc3\")"
   ]
  },
  {
   "cell_type": "code",
   "execution_count": 18,
   "metadata": {},
   "outputs": [
    {
     "data": {
      "image/png": "[encoded data removed]",
      "text/plain": [
       "<Figure size 432x288 with 1 Axes>"
      ]
     },
     "metadata": {
      "needs_background": "light"
     },
     "output_type": "display_data"
    }
   ],
   "source": [
    "simexp_gcn.visualization.visualize.visualize_activation(gcn, train_generator, \"fc3\")"
   ]
  },
  {
   "cell_type": "code",
   "execution_count": null,
   "metadata": {},
   "outputs": [],
   "source": []
  }
 ],
 "metadata": {
  "interpreter": {
   "hash": "767d51c1340bd893661ea55ea3124f6de3c7a262a8b4abca0554b478b1e2ff90"
  },
  "kernelspec": {
   "display_name": "Python 3",
   "language": "python",
   "name": "python3"
  },
  "language_info": {
   "codemirror_mode": {
    "name": "ipython",
    "version": 3
   },
   "file_extension": ".py",
   "mimetype": "text/x-python",
   "name": "python",
   "nbconvert_exporter": "python",
   "pygments_lexer": "ipython3",
   "version": "3.6.9"
  },
  "varInspector": {
   "cols": {
    "lenName": 16,
    "lenType": 16,
    "lenVar": 40
   },
   "kernels_config": {
    "python": {
     "delete_cmd_postfix": "",
     "delete_cmd_prefix": "del ",
     "library": "var_list.py",
     "varRefreshCmd": "print(var_dic_list())"
    },
    "r": {
     "delete_cmd_postfix": ") ",
     "delete_cmd_prefix": "rm(",
     "library": "var_list.r",
     "varRefreshCmd": "cat(var_dic_list()) "
    }
   },
   "types_to_exclude": [
    "module",
    "function",
    "builtin_function_or_method",
    "instance",
    "_Feature"
   ],
   "window_display": false
  }
 },
 "nbformat": 4,
 "nbformat_minor": 2
}

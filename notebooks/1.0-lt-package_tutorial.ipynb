{
 "cells": [
  {
   "cell_type": "code",
   "execution_count": 1,
   "metadata": {},
   "outputs": [
    {
     "name": "stderr",
     "output_type": "stream",
     "text": [
      "/home/ltetrel/.local/lib/python3.6/site-packages/nilearn/datasets/__init__.py:89: FutureWarning: Fetchers from the nilearn.datasets module will be updated in version 0.9 to return python strings instead of bytes and Pandas dataframes instead of Numpy arrays.\n",
      "  \"Numpy arrays.\", FutureWarning)\n"
     ]
    },
    {
     "name": "stdout",
     "output_type": "stream",
     "text": [
      "torch v1.8.1+cpu\n",
      "nilearn v0.8.0\n",
      "simexp_gcn v0.1.0\n"
     ]
    }
   ],
   "source": [
    "import os\n",
    "import sys\n",
    "import torch\n",
    "import nilearn as nil\n",
    "import nilearn.datasets\n",
    "import nilearn.connectome\n",
    "import nilearn.input_data\n",
    "sys.path.append(os.path.join(\"..\"))\n",
    "import simexp_gcn\n",
    "import simexp_gcn.data.raw_data_loader\n",
    "import simexp_gcn.data.time_windows_dataset\n",
    "import simexp_gcn.features.graph_construction\n",
    "import simexp_gcn.models.gcn\n",
    "import simexp_gcn.visualization.visualize\n",
    "\n",
    "print(\"torch v{}\".format(torch.__version__))\n",
    "print(\"nilearn v{}\".format(nil.__version__))\n",
    "print(\"simexp_gcn v{}\".format(simexp_gcn.__version__))"
   ]
  },
  {
   "cell_type": "markdown",
   "metadata": {},
   "source": [
    "# Initial parameters"
   ]
  },
  {
   "cell_type": "code",
   "execution_count": 2,
   "metadata": {},
   "outputs": [],
   "source": [
    "# parameters\n",
    "num_parcels = 512 # number of parcels (nodes) to keep for the graph\n",
    "window_length = 50 #number of timepoints per sample (timeserie)\n",
    "zero_padding = True #pad splitted timeseries with zeros, or remove incomplete\n",
    "random_seed = 0 # fix random state for dat ageneration, and pytorch fit\n",
    "# paths\n",
    "model_path = os.path.join(\"..\", \"models\", \"gcn_test.pt\")\n",
    "raw_dir = os.path.join(\"..\", \"data\", \"raw\")\n",
    "data_dir = os.path.join(\"..\", \"data\", \"processed\", f\"cobre_difumo{num_parcels}\")\n",
    "ts_out = os.path.join(data_dir, \"timeseries\")\n",
    "conn_out = os.path.join(data_dir, \"connectomes\")\n",
    "\n",
    "if not os.path.exists(ts_out):\n",
    "    os.makedirs(ts_out)\n",
    "if not os.path.exists(conn_out):\n",
    "    os.makedirs(conn_out)"
   ]
  },
  {
   "cell_type": "markdown",
   "metadata": {},
   "source": [
    "# Dataset fetching and connectomes generation"
   ]
  },
  {
   "cell_type": "code",
   "execution_count": 3,
   "metadata": {},
   "outputs": [
    {
     "name": "stderr",
     "output_type": "stream",
     "text": [
      "/home/ltetrel/.local/lib/python3.6/site-packages/numpy/lib/npyio.py:2349: VisibleDeprecationWarning: Reading unicode strings without specifying the encoding argument is deprecated. Set the encoding, use None for the system default.\n",
      "  output = genfromtxt(fname, **kwargs)\n",
      "/home/ltetrel/.local/lib/python3.6/site-packages/sklearn/utils/deprecation.py:85: DeprecationWarning: Function fetch_cobre is deprecated; 'fetch_cobre' has been deprecated and will be removed in release 0.9 . Please consider using a different datasets or downloading it with a different tool than nilearn.\n",
      "  warnings.warn(msg, category=DeprecationWarning)\n"
     ]
    }
   ],
   "source": [
    "# Fetching atlas\n",
    "atlas = nil.datasets.fetch_atlas_difumo(data_dir=raw_dir, dimension=num_parcels)\n",
    "atlas_filename = atlas['maps']\n",
    "atlas_labels = atlas['labels']\n",
    "\n",
    "# Fetching data\n",
    "data = nil.datasets.fetch_cobre(data_dir=raw_dir, n_subjects=None) #all subs"
   ]
  },
  {
   "cell_type": "code",
   "execution_count": 4,
   "metadata": {},
   "outputs": [],
   "source": [
    "# Estimating connectomes\n",
    "# import numpy as np\n",
    "\n",
    "# masker = nil.input_data.NiftiMapsMasker(maps_img=atlas['maps'], standardize=True, verbose=5)\n",
    "# corr_measure = nil.connectome.ConnectivityMeasure(kind=\"correlation\")\n",
    "\n",
    "# for i in range(len(data.func)):\n",
    "#     ts = masker.fit_transform(data.func[i], confounds=data.confounds[i])\n",
    "#     conn = corr_measure.fit_transform([ts])[0]\n",
    "#     sub_num = os.path.basename(data.func[i]).split('.')[0].split('_')[1]\n",
    "#     np.save(os.path.join(ts_out, \"timeseries_{}_difumo_{}.npy\".format(sub_num, num_parcels)), ts)\n",
    "#     np.save(os.path.join(conn_out, \"conn_{}_difumo_{}.npy\".format(sub_num, num_parcels)), conn)\n",
    "#     print(\"Done {}/146\".format(i+1))"
   ]
  },
  {
   "cell_type": "markdown",
   "metadata": {},
   "source": [
    "# Data generator"
   ]
  },
  {
   "cell_type": "code",
   "execution_count": 5,
   "metadata": {},
   "outputs": [],
   "source": [
    "# Preparing data for generator\n",
    "# this include timeseries loading, splitting and labeling\n",
    "pheno_path = os.path.join(raw_dir, \"cobre\", \"phenotypic_data.tsv\")\n",
    "split_dir = os.path.join(\"..\", \"data\", \"interim\")"
   ]
  },
  {
   "cell_type": "code",
   "execution_count": 6,
   "metadata": {},
   "outputs": [],
   "source": [
    "# remove previous content\n",
    "if os.path.exists(split_dir):\n",
    "    import glob\n",
    "\n",
    "    files = glob.glob(os.path.join(split_dir, \"[^.gitkeep]*\"))\n",
    "    for f in files:\n",
    "        os.remove(f)"
   ]
  },
  {
   "cell_type": "code",
   "execution_count": 7,
   "metadata": {},
   "outputs": [
    {
     "name": "stderr",
     "output_type": "stream",
     "text": [
      "../simexp_gcn/data/raw_data_loader.py:103: UserWarning: Different shapes for sub ID(s): ['40075']\n",
      "  warnings.warn(\"Different shapes for sub ID(s): {}\".format(non_valid_ids))\n"
     ]
    }
   ],
   "source": [
    "\n",
    "RawDataLoad = simexp_gcn.data.raw_data_loader.RawDataLoader(\n",
    "    num_nodes = num_parcels\n",
    "    , ts_dir=ts_out\n",
    "    , conn_dir=conn_out\n",
    "    , pheno_path=pheno_path)\n",
    "RawDataLoad.split_timeseries_and_save(window_length=window_length, zero_padding=zero_padding, output_dir=split_dir)"
   ]
  },
  {
   "cell_type": "code",
   "execution_count": 8,
   "metadata": {},
   "outputs": [
    {
     "name": "stdout",
     "output_type": "stream",
     "text": [
      "train dataset: 304*(torch.Size([512, 50]), ())\n",
      "valid dataset: 87*(torch.Size([512, 50]), ())\n",
      "test dataset: 44*(torch.Size([512, 50]), ())\n"
     ]
    }
   ],
   "source": [
    "# Pytorch dataset: generates items from the current data directory\n",
    "train_dataset = simexp_gcn.data.time_windows_dataset.TimeWindowsDataset(\n",
    "    data_dir=split_dir\n",
    "    , partition=\"train\"\n",
    "    , random_seed=random_seed\n",
    "    , pin_memory=True\n",
    "    , normalize=True)\n",
    "valid_dataset = simexp_gcn.data.time_windows_dataset.TimeWindowsDataset(\n",
    "    data_dir=split_dir\n",
    "    , partition=\"valid\"\n",
    "    , random_seed=random_seed\n",
    "    , pin_memory=True\n",
    "    , normalize=True)\n",
    "test_dataset = simexp_gcn.data.time_windows_dataset.TimeWindowsDataset(\n",
    "    data_dir=split_dir\n",
    "    , partition=\"test\"\n",
    "    , random_seed=random_seed\n",
    "    , pin_memory=True\n",
    "    , normalize=True)\n",
    "print(\"train dataset: {}\".format(train_dataset))\n",
    "print(\"valid dataset: {}\".format(valid_dataset))\n",
    "print(\"test dataset: {}\".format(test_dataset))"
   ]
  },
  {
   "cell_type": "code",
   "execution_count": 9,
   "metadata": {},
   "outputs": [
    {
     "name": "stdout",
     "output_type": "stream",
     "text": [
      "Feature batch shape: torch.Size([16, 512, 50]); mean 1.210719302591201e-09\n",
      "Labels batch shape: torch.Size([16]); mean 0.5625\n"
     ]
    }
   ],
   "source": [
    "# Pytorch dataloader: wraps an iterable around the pytorch dataset to shuffle and generate (in parrallel) minibatches\n",
    "#setting pytoch seed for reproducible torch.utils.data.DataLoader\n",
    "torch.manual_seed(random_seed)\n",
    "train_generator = torch.utils.data.DataLoader(train_dataset, batch_size=16, shuffle=True)\n",
    "valid_generator = torch.utils.data.DataLoader(valid_dataset, batch_size=16, shuffle=True)\n",
    "test_generator = torch.utils.data.DataLoader(test_dataset, batch_size=16, shuffle=True)\n",
    "train_features, train_labels = next(iter(train_generator))\n",
    "print(f\"Feature batch shape: {train_features.size()}; mean {torch.mean(train_features)}\")\n",
    "print(f\"Labels batch shape: {train_labels.size()}; mean {torch.mean(torch.Tensor.float(train_labels))}\")"
   ]
  },
  {
   "cell_type": "markdown",
   "metadata": {},
   "source": [
    "# Model definition"
   ]
  },
  {
   "cell_type": "code",
   "execution_count": 10,
   "metadata": {},
   "outputs": [
    {
     "data": {
      "text/plain": [
       "LoicGCN(\n",
       "  (conv1): ChebConv(50, 32, K=2, normalization=sym)\n",
       "  (conv2): ChebConv(32, 32, K=2, normalization=sym)\n",
       "  (conv3): ChebConv(32, 16, K=2, normalization=sym)\n",
       "  (fc1): Linear(in_features=8192, out_features=256, bias=True)\n",
       "  (fc2): Linear(in_features=256, out_features=128, bias=True)\n",
       "  (fc3): Linear(in_features=128, out_features=2, bias=True)\n",
       "  (dropout): Dropout(p=0.2, inplace=False)\n",
       ")"
      ]
     },
     "execution_count": 10,
     "metadata": {},
     "output_type": "execute_result"
    }
   ],
   "source": [
    "# model definition\n",
    "# get average connectome with its k-nearest neighbors\n",
    "connectomes = RawDataLoad.get_valid_connectomes()\n",
    "graph = simexp_gcn.features.graph_construction.make_group_graph(connectomes, k=8, self_loops=False, symmetric=True)\n",
    "# Create model\n",
    "gcn = simexp_gcn.models.gcn.LoicGCN(graph.edge_index, graph.edge_attr, n_timepoints=window_length)\n",
    "gcn"
   ]
  },
  {
   "cell_type": "markdown",
   "metadata": {},
   "source": [
    "# Training"
   ]
  },
  {
   "cell_type": "code",
   "execution_count": 38,
   "metadata": {},
   "outputs": [],
   "source": [
    "def train_loop(dataloader, model, loss_fn, optimizer):\n",
    "    size = len(dataloader.dataset)\n",
    "    for batch, (X, y) in enumerate(dataloader):\n",
    "        # Compute prediction and loss\n",
    "        pred = model(X)\n",
    "        loss = loss_fn(pred, y)\n",
    "\n",
    "        # Backpropagation\n",
    "        optimizer.zero_grad()\n",
    "        loss.backward()\n",
    "        optimizer.step()\n",
    "\n",
    "        loss, current = loss.item(), batch * dataloader.batch_size\n",
    "        correct = (pred.argmax(dim=1) == y).type(torch.float).sum().item()\n",
    "        correct /= X.shape[0]\n",
    "        print(f\"#{batch:<2}\\t\\ttrain_loss: {loss:>0.3f};\\ttrain_accuracy: {(100*correct):>5.1f}%\\t\\t[{current:>5d}/{size:>5d}]\")\n",
    "\n",
    "def valid_test_loop(dataloader, model, loss_fn):\n",
    "    size = len(dataloader.dataset)\n",
    "    loss, correct = 0, 0\n",
    "\n",
    "    with torch.no_grad():\n",
    "        for X, y in dataloader:\n",
    "            pred = model.forward(X)\n",
    "            loss += loss_fn(pred, y).item()\n",
    "            correct += (pred.argmax(dim=1) == y).type(torch.float).sum().item()\n",
    "\n",
    "    loss /= size\n",
    "    correct /= size\n",
    "\n",
    "    return loss, correct"
   ]
  },
  {
   "cell_type": "code",
   "execution_count": 39,
   "metadata": {
    "tags": [
     "outputPrepend"
    ]
   },
   "outputs": [
    {
     "name": "stdout",
     "output_type": "stream",
     "text": [
      "Epoch 1/15\n",
      "-------------------------------\n",
      "#0 \t\ttrain_loss: 0.893;\ttrain_accuracy:  75.0%\t\t[    0/  304]\n",
      "#1 \t\ttrain_loss: 0.059;\ttrain_accuracy: 100.0%\t\t[   16/  304]\n",
      "#2 \t\ttrain_loss: 0.243;\ttrain_accuracy:  81.2%\t\t[   32/  304]\n",
      "#3 \t\ttrain_loss: 0.173;\ttrain_accuracy:  93.8%\t\t[   48/  304]\n",
      "#4 \t\ttrain_loss: 0.176;\ttrain_accuracy:  87.5%\t\t[   64/  304]\n",
      "#5 \t\ttrain_loss: 0.019;\ttrain_accuracy: 100.0%\t\t[   80/  304]\n",
      "#6 \t\ttrain_loss: 0.015;\ttrain_accuracy: 100.0%\t\t[   96/  304]\n",
      "#7 \t\ttrain_loss: 0.020;\ttrain_accuracy: 100.0%\t\t[  112/  304]\n",
      "#8 \t\ttrain_loss: 0.043;\ttrain_accuracy: 100.0%\t\t[  128/  304]\n",
      "#9 \t\ttrain_loss: 0.054;\ttrain_accuracy: 100.0%\t\t[  144/  304]\n",
      "#10\t\ttrain_loss: 0.140;\ttrain_accuracy:  87.5%\t\t[  160/  304]\n",
      "#11\t\ttrain_loss: 0.128;\ttrain_accuracy:  93.8%\t\t[  176/  304]\n",
      "#12\t\ttrain_loss: 0.151;\ttrain_accuracy:  87.5%\t\t[  192/  304]\n",
      "#13\t\ttrain_loss: 0.015;\ttrain_accuracy: 100.0%\t\t[  208/  304]\n",
      "#14\t\ttrain_loss: 0.148;\ttrain_accuracy:  93.8%\t\t[  224/  304]\n",
      "#15\t\ttrain_loss: 0.205;\ttrain_accuracy:  87.5%\t\t[  240/  304]\n",
      "#16\t\ttrain_loss: 0.033;\ttrain_accuracy: 100.0%\t\t[  256/  304]\n",
      "#17\t\ttrain_loss: 0.061;\ttrain_accuracy: 100.0%\t\t[  272/  304]\n",
      "#18\t\ttrain_loss: 0.021;\ttrain_accuracy: 100.0%\t\t[  288/  304]\n",
      "Valid metrics:\n",
      "\t avg_loss: 0.147775;\t avg_accuracy: 46.0%\n",
      "Epoch 2/15\n",
      "-------------------------------\n",
      "#0 \t\ttrain_loss: 0.020;\ttrain_accuracy: 100.0%\t\t[    0/  304]\n",
      "#1 \t\ttrain_loss: 0.003;\ttrain_accuracy: 100.0%\t\t[   16/  304]\n",
      "#2 \t\ttrain_loss: 0.003;\ttrain_accuracy: 100.0%\t\t[   32/  304]\n",
      "#3 \t\ttrain_loss: 0.006;\ttrain_accuracy: 100.0%\t\t[   48/  304]\n",
      "#4 \t\ttrain_loss: 0.003;\ttrain_accuracy: 100.0%\t\t[   64/  304]\n",
      "#5 \t\ttrain_loss: 0.121;\ttrain_accuracy:  93.8%\t\t[   80/  304]\n",
      "#6 \t\ttrain_loss: 0.046;\ttrain_accuracy: 100.0%\t\t[   96/  304]\n",
      "#7 \t\ttrain_loss: 0.015;\ttrain_accuracy: 100.0%\t\t[  112/  304]\n",
      "#8 \t\ttrain_loss: 0.025;\ttrain_accuracy: 100.0%\t\t[  128/  304]\n",
      "#9 \t\ttrain_loss: 0.020;\ttrain_accuracy: 100.0%\t\t[  144/  304]\n",
      "#10\t\ttrain_loss: 0.005;\ttrain_accuracy: 100.0%\t\t[  160/  304]\n",
      "#11\t\ttrain_loss: 0.024;\ttrain_accuracy: 100.0%\t\t[  176/  304]\n",
      "#12\t\ttrain_loss: 0.122;\ttrain_accuracy:  93.8%\t\t[  192/  304]\n",
      "#13\t\ttrain_loss: 0.005;\ttrain_accuracy: 100.0%\t\t[  208/  304]\n",
      "#14\t\ttrain_loss: 0.002;\ttrain_accuracy: 100.0%\t\t[  224/  304]\n",
      "#15\t\ttrain_loss: 0.006;\ttrain_accuracy: 100.0%\t\t[  240/  304]\n",
      "#16\t\ttrain_loss: 0.059;\ttrain_accuracy:  93.8%\t\t[  256/  304]\n",
      "#17\t\ttrain_loss: 0.020;\ttrain_accuracy: 100.0%\t\t[  272/  304]\n",
      "#18\t\ttrain_loss: 0.004;\ttrain_accuracy: 100.0%\t\t[  288/  304]\n",
      "Valid metrics:\n",
      "\t avg_loss: 0.140570;\t avg_accuracy: 48.3%\n",
      "Epoch 3/15\n",
      "-------------------------------\n",
      "#0 \t\ttrain_loss: 0.024;\ttrain_accuracy: 100.0%\t\t[    0/  304]\n",
      "#1 \t\ttrain_loss: 0.002;\ttrain_accuracy: 100.0%\t\t[   16/  304]\n",
      "#2 \t\ttrain_loss: 0.124;\ttrain_accuracy:  93.8%\t\t[   32/  304]\n",
      "#3 \t\ttrain_loss: 0.075;\ttrain_accuracy:  93.8%\t\t[   48/  304]\n",
      "#4 \t\ttrain_loss: 0.089;\ttrain_accuracy:  93.8%\t\t[   64/  304]\n",
      "#5 \t\ttrain_loss: 0.028;\ttrain_accuracy: 100.0%\t\t[   80/  304]\n",
      "#6 \t\ttrain_loss: 0.013;\ttrain_accuracy: 100.0%\t\t[   96/  304]\n",
      "#7 \t\ttrain_loss: 0.064;\ttrain_accuracy:  93.8%\t\t[  112/  304]\n",
      "#8 \t\ttrain_loss: 0.319;\ttrain_accuracy:  81.2%\t\t[  128/  304]\n",
      "#9 \t\ttrain_loss: 0.016;\ttrain_accuracy: 100.0%\t\t[  144/  304]\n",
      "#10\t\ttrain_loss: 0.004;\ttrain_accuracy: 100.0%\t\t[  160/  304]\n",
      "#11\t\ttrain_loss: 0.002;\ttrain_accuracy: 100.0%\t\t[  176/  304]\n",
      "#12\t\ttrain_loss: 0.046;\ttrain_accuracy: 100.0%\t\t[  192/  304]\n",
      "#13\t\ttrain_loss: 0.113;\ttrain_accuracy:  93.8%\t\t[  208/  304]\n",
      "#14\t\ttrain_loss: 0.225;\ttrain_accuracy:  87.5%\t\t[  224/  304]\n",
      "#15\t\ttrain_loss: 0.049;\ttrain_accuracy: 100.0%\t\t[  240/  304]\n",
      "#16\t\ttrain_loss: 0.017;\ttrain_accuracy: 100.0%\t\t[  256/  304]\n",
      "#17\t\ttrain_loss: 0.020;\ttrain_accuracy: 100.0%\t\t[  272/  304]\n",
      "#18\t\ttrain_loss: 0.009;\ttrain_accuracy: 100.0%\t\t[  288/  304]\n",
      "Valid metrics:\n",
      "\t avg_loss: 0.183467;\t avg_accuracy: 48.3%\n",
      "Epoch 4/15\n",
      "-------------------------------\n",
      "#0 \t\ttrain_loss: 0.005;\ttrain_accuracy: 100.0%\t\t[    0/  304]\n",
      "#1 \t\ttrain_loss: 0.196;\ttrain_accuracy:  93.8%\t\t[   16/  304]\n",
      "#2 \t\ttrain_loss: 0.003;\ttrain_accuracy: 100.0%\t\t[   32/  304]\n",
      "#3 \t\ttrain_loss: 0.080;\ttrain_accuracy:  93.8%\t\t[   48/  304]\n",
      "#4 \t\ttrain_loss: 0.003;\ttrain_accuracy: 100.0%\t\t[   64/  304]\n",
      "#5 \t\ttrain_loss: 0.052;\ttrain_accuracy: 100.0%\t\t[   80/  304]\n",
      "#6 \t\ttrain_loss: 0.008;\ttrain_accuracy: 100.0%\t\t[   96/  304]\n",
      "#7 \t\ttrain_loss: 0.090;\ttrain_accuracy:  93.8%\t\t[  112/  304]\n",
      "#8 \t\ttrain_loss: 0.005;\ttrain_accuracy: 100.0%\t\t[  128/  304]\n",
      "#9 \t\ttrain_loss: 0.080;\ttrain_accuracy: 100.0%\t\t[  144/  304]\n",
      "#10\t\ttrain_loss: 0.007;\ttrain_accuracy: 100.0%\t\t[  160/  304]\n",
      "#11\t\ttrain_loss: 0.050;\ttrain_accuracy:  93.8%\t\t[  176/  304]\n",
      "#12\t\ttrain_loss: 0.008;\ttrain_accuracy: 100.0%\t\t[  192/  304]\n",
      "#13\t\ttrain_loss: 0.009;\ttrain_accuracy: 100.0%\t\t[  208/  304]\n",
      "#14\t\ttrain_loss: 0.030;\ttrain_accuracy: 100.0%\t\t[  224/  304]\n",
      "#15\t\ttrain_loss: 0.022;\ttrain_accuracy: 100.0%\t\t[  240/  304]\n",
      "#16\t\ttrain_loss: 0.017;\ttrain_accuracy: 100.0%\t\t[  256/  304]\n",
      "#17\t\ttrain_loss: 0.010;\ttrain_accuracy: 100.0%\t\t[  272/  304]\n",
      "#18\t\ttrain_loss: 0.086;\ttrain_accuracy: 100.0%\t\t[  288/  304]\n",
      "Valid metrics:\n",
      "\t avg_loss: 0.163062;\t avg_accuracy: 46.0%\n",
      "Epoch 5/15\n",
      "-------------------------------\n",
      "#0 \t\ttrain_loss: 0.036;\ttrain_accuracy: 100.0%\t\t[    0/  304]\n",
      "#1 \t\ttrain_loss: 0.082;\ttrain_accuracy:  93.8%\t\t[   16/  304]\n",
      "#2 \t\ttrain_loss: 0.030;\ttrain_accuracy: 100.0%\t\t[   32/  304]\n",
      "#3 \t\ttrain_loss: 0.016;\ttrain_accuracy: 100.0%\t\t[   48/  304]\n",
      "#4 \t\ttrain_loss: 0.064;\ttrain_accuracy: 100.0%\t\t[   64/  304]\n",
      "#5 \t\ttrain_loss: 0.166;\ttrain_accuracy:  93.8%\t\t[   80/  304]\n",
      "#6 \t\ttrain_loss: 0.001;\ttrain_accuracy: 100.0%\t\t[   96/  304]\n",
      "#7 \t\ttrain_loss: 0.024;\ttrain_accuracy: 100.0%\t\t[  112/  304]\n",
      "#8 \t\ttrain_loss: 0.012;\ttrain_accuracy: 100.0%\t\t[  128/  304]\n",
      "#9 \t\ttrain_loss: 0.004;\ttrain_accuracy: 100.0%\t\t[  144/  304]\n",
      "#10\t\ttrain_loss: 0.057;\ttrain_accuracy: 100.0%\t\t[  160/  304]\n",
      "#11\t\ttrain_loss: 0.065;\ttrain_accuracy:  93.8%\t\t[  176/  304]\n",
      "#12\t\ttrain_loss: 0.010;\ttrain_accuracy: 100.0%\t\t[  192/  304]\n",
      "#13\t\ttrain_loss: 0.004;\ttrain_accuracy: 100.0%\t\t[  208/  304]\n",
      "#14\t\ttrain_loss: 0.006;\ttrain_accuracy: 100.0%\t\t[  224/  304]\n",
      "#15\t\ttrain_loss: 0.013;\ttrain_accuracy: 100.0%\t\t[  240/  304]\n",
      "#16\t\ttrain_loss: 0.003;\ttrain_accuracy: 100.0%\t\t[  256/  304]\n",
      "#17\t\ttrain_loss: 0.022;\ttrain_accuracy: 100.0%\t\t[  272/  304]\n",
      "#18\t\ttrain_loss: 0.203;\ttrain_accuracy:  93.8%\t\t[  288/  304]\n",
      "Valid metrics:\n",
      "\t avg_loss: 0.134685;\t avg_accuracy: 48.3%\n",
      "Epoch 6/15\n",
      "-------------------------------\n",
      "#0 \t\ttrain_loss: 0.002;\ttrain_accuracy: 100.0%\t\t[    0/  304]\n",
      "#1 \t\ttrain_loss: 0.057;\ttrain_accuracy:  93.8%\t\t[   16/  304]\n",
      "#2 \t\ttrain_loss: 0.105;\ttrain_accuracy:  93.8%\t\t[   32/  304]\n",
      "#3 \t\ttrain_loss: 0.003;\ttrain_accuracy: 100.0%\t\t[   48/  304]\n",
      "#4 \t\ttrain_loss: 0.016;\ttrain_accuracy: 100.0%\t\t[   64/  304]\n",
      "#5 \t\ttrain_loss: 0.287;\ttrain_accuracy:  93.8%\t\t[   80/  304]\n",
      "#6 \t\ttrain_loss: 0.030;\ttrain_accuracy: 100.0%\t\t[   96/  304]\n",
      "#7 \t\ttrain_loss: 0.022;\ttrain_accuracy: 100.0%\t\t[  112/  304]\n",
      "#8 \t\ttrain_loss: 0.034;\ttrain_accuracy: 100.0%\t\t[  128/  304]\n",
      "#9 \t\ttrain_loss: 0.031;\ttrain_accuracy: 100.0%\t\t[  144/  304]\n",
      "#10\t\ttrain_loss: 0.114;\ttrain_accuracy:  93.8%\t\t[  160/  304]\n",
      "#11\t\ttrain_loss: 0.060;\ttrain_accuracy:  93.8%\t\t[  176/  304]\n",
      "#12\t\ttrain_loss: 0.003;\ttrain_accuracy: 100.0%\t\t[  192/  304]\n",
      "#13\t\ttrain_loss: 0.007;\ttrain_accuracy: 100.0%\t\t[  208/  304]\n",
      "#14\t\ttrain_loss: 0.003;\ttrain_accuracy: 100.0%\t\t[  224/  304]\n",
      "#15\t\ttrain_loss: 0.068;\ttrain_accuracy: 100.0%\t\t[  240/  304]\n",
      "#16\t\ttrain_loss: 0.021;\ttrain_accuracy: 100.0%\t\t[  256/  304]\n",
      "#17\t\ttrain_loss: 0.008;\ttrain_accuracy: 100.0%\t\t[  272/  304]\n",
      "#18\t\ttrain_loss: 0.089;\ttrain_accuracy:  93.8%\t\t[  288/  304]\n",
      "Valid metrics:\n",
      "\t avg_loss: 0.156550;\t avg_accuracy: 44.8%\n",
      "Epoch 7/15\n",
      "-------------------------------\n",
      "#0 \t\ttrain_loss: 0.006;\ttrain_accuracy: 100.0%\t\t[    0/  304]\n",
      "#1 \t\ttrain_loss: 0.026;\ttrain_accuracy: 100.0%\t\t[   16/  304]\n",
      "#2 \t\ttrain_loss: 0.002;\ttrain_accuracy: 100.0%\t\t[   32/  304]\n",
      "#3 \t\ttrain_loss: 0.009;\ttrain_accuracy: 100.0%\t\t[   48/  304]\n",
      "#4 \t\ttrain_loss: 0.031;\ttrain_accuracy: 100.0%\t\t[   64/  304]\n",
      "#5 \t\ttrain_loss: 0.002;\ttrain_accuracy: 100.0%\t\t[   80/  304]\n",
      "#6 \t\ttrain_loss: 0.013;\ttrain_accuracy: 100.0%\t\t[   96/  304]\n",
      "#7 \t\ttrain_loss: 0.169;\ttrain_accuracy:  93.8%\t\t[  112/  304]\n",
      "#8 \t\ttrain_loss: 0.056;\ttrain_accuracy:  93.8%\t\t[  128/  304]\n"
     ]
    },
    {
     "name": "stdout",
     "output_type": "stream",
     "text": [
      "#9 \t\ttrain_loss: 0.001;\ttrain_accuracy: 100.0%\t\t[  144/  304]\n",
      "#10\t\ttrain_loss: 0.015;\ttrain_accuracy: 100.0%\t\t[  160/  304]\n",
      "#11\t\ttrain_loss: 0.008;\ttrain_accuracy: 100.0%\t\t[  176/  304]\n",
      "#12\t\ttrain_loss: 0.002;\ttrain_accuracy: 100.0%\t\t[  192/  304]\n",
      "#13\t\ttrain_loss: 0.137;\ttrain_accuracy:  93.8%\t\t[  208/  304]\n",
      "#14\t\ttrain_loss: 0.113;\ttrain_accuracy:  93.8%\t\t[  224/  304]\n",
      "#15\t\ttrain_loss: 0.002;\ttrain_accuracy: 100.0%\t\t[  240/  304]\n",
      "#16\t\ttrain_loss: 0.003;\ttrain_accuracy: 100.0%\t\t[  256/  304]\n",
      "#17\t\ttrain_loss: 0.245;\ttrain_accuracy:  93.8%\t\t[  272/  304]\n",
      "#18\t\ttrain_loss: 0.006;\ttrain_accuracy: 100.0%\t\t[  288/  304]\n",
      "Valid metrics:\n",
      "\t avg_loss: 0.126788;\t avg_accuracy: 49.4%\n",
      "Epoch 8/15\n",
      "-------------------------------\n",
      "#0 \t\ttrain_loss: 0.029;\ttrain_accuracy: 100.0%\t\t[    0/  304]\n",
      "#1 \t\ttrain_loss: 0.028;\ttrain_accuracy: 100.0%\t\t[   16/  304]\n",
      "#2 \t\ttrain_loss: 0.134;\ttrain_accuracy:  93.8%\t\t[   32/  304]\n",
      "#3 \t\ttrain_loss: 0.015;\ttrain_accuracy: 100.0%\t\t[   48/  304]\n",
      "#4 \t\ttrain_loss: 0.008;\ttrain_accuracy: 100.0%\t\t[   64/  304]\n",
      "#5 \t\ttrain_loss: 0.009;\ttrain_accuracy: 100.0%\t\t[   80/  304]\n",
      "#6 \t\ttrain_loss: 0.003;\ttrain_accuracy: 100.0%\t\t[   96/  304]\n",
      "#7 \t\ttrain_loss: 0.012;\ttrain_accuracy: 100.0%\t\t[  112/  304]\n",
      "#8 \t\ttrain_loss: 0.040;\ttrain_accuracy: 100.0%\t\t[  128/  304]\n",
      "#9 \t\ttrain_loss: 0.004;\ttrain_accuracy: 100.0%\t\t[  144/  304]\n",
      "#10\t\ttrain_loss: 0.021;\ttrain_accuracy: 100.0%\t\t[  160/  304]\n",
      "#11\t\ttrain_loss: 0.002;\ttrain_accuracy: 100.0%\t\t[  176/  304]\n",
      "#12\t\ttrain_loss: 0.001;\ttrain_accuracy: 100.0%\t\t[  192/  304]\n",
      "#13\t\ttrain_loss: 0.002;\ttrain_accuracy: 100.0%\t\t[  208/  304]\n",
      "#14\t\ttrain_loss: 0.007;\ttrain_accuracy: 100.0%\t\t[  224/  304]\n",
      "#15\t\ttrain_loss: 0.004;\ttrain_accuracy: 100.0%\t\t[  240/  304]\n",
      "#16\t\ttrain_loss: 0.012;\ttrain_accuracy: 100.0%\t\t[  256/  304]\n",
      "#17\t\ttrain_loss: 0.022;\ttrain_accuracy: 100.0%\t\t[  272/  304]\n",
      "#18\t\ttrain_loss: 0.005;\ttrain_accuracy: 100.0%\t\t[  288/  304]\n",
      "Valid metrics:\n",
      "\t avg_loss: 0.141448;\t avg_accuracy: 46.0%\n",
      "Epoch 9/15\n",
      "-------------------------------\n",
      "#0 \t\ttrain_loss: 0.098;\ttrain_accuracy:  93.8%\t\t[    0/  304]\n",
      "#1 \t\ttrain_loss: 0.002;\ttrain_accuracy: 100.0%\t\t[   16/  304]\n",
      "#2 \t\ttrain_loss: 0.009;\ttrain_accuracy: 100.0%\t\t[   32/  304]\n",
      "#3 \t\ttrain_loss: 0.006;\ttrain_accuracy: 100.0%\t\t[   48/  304]\n",
      "#4 \t\ttrain_loss: 0.011;\ttrain_accuracy: 100.0%\t\t[   64/  304]\n",
      "#5 \t\ttrain_loss: 0.004;\ttrain_accuracy: 100.0%\t\t[   80/  304]\n",
      "#6 \t\ttrain_loss: 0.004;\ttrain_accuracy: 100.0%\t\t[   96/  304]\n",
      "#7 \t\ttrain_loss: 0.302;\ttrain_accuracy:  93.8%\t\t[  112/  304]\n",
      "#8 \t\ttrain_loss: 0.005;\ttrain_accuracy: 100.0%\t\t[  128/  304]\n",
      "#9 \t\ttrain_loss: 0.007;\ttrain_accuracy: 100.0%\t\t[  144/  304]\n",
      "#10\t\ttrain_loss: 0.012;\ttrain_accuracy: 100.0%\t\t[  160/  304]\n",
      "#11\t\ttrain_loss: 0.049;\ttrain_accuracy: 100.0%\t\t[  176/  304]\n",
      "#12\t\ttrain_loss: 0.001;\ttrain_accuracy: 100.0%\t\t[  192/  304]\n",
      "#13\t\ttrain_loss: 0.110;\ttrain_accuracy:  93.8%\t\t[  208/  304]\n",
      "#14\t\ttrain_loss: 0.015;\ttrain_accuracy: 100.0%\t\t[  224/  304]\n",
      "#15\t\ttrain_loss: 0.192;\ttrain_accuracy:  93.8%\t\t[  240/  304]\n",
      "#16\t\ttrain_loss: 0.007;\ttrain_accuracy: 100.0%\t\t[  256/  304]\n",
      "#17\t\ttrain_loss: 0.043;\ttrain_accuracy: 100.0%\t\t[  272/  304]\n",
      "#18\t\ttrain_loss: 0.076;\ttrain_accuracy:  93.8%\t\t[  288/  304]\n",
      "Valid metrics:\n",
      "\t avg_loss: 0.256194;\t avg_accuracy: 47.1%\n",
      "Epoch 10/15\n",
      "-------------------------------\n",
      "#0 \t\ttrain_loss: 0.168;\ttrain_accuracy:  93.8%\t\t[    0/  304]\n",
      "#1 \t\ttrain_loss: 0.140;\ttrain_accuracy:  93.8%\t\t[   16/  304]\n",
      "#2 \t\ttrain_loss: 0.019;\ttrain_accuracy: 100.0%\t\t[   32/  304]\n",
      "#3 \t\ttrain_loss: 0.025;\ttrain_accuracy: 100.0%\t\t[   48/  304]\n",
      "#4 \t\ttrain_loss: 0.069;\ttrain_accuracy:  93.8%\t\t[   64/  304]\n",
      "#5 \t\ttrain_loss: 0.016;\ttrain_accuracy: 100.0%\t\t[   80/  304]\n",
      "#6 \t\ttrain_loss: 0.078;\ttrain_accuracy:  93.8%\t\t[   96/  304]\n",
      "#7 \t\ttrain_loss: 0.043;\ttrain_accuracy: 100.0%\t\t[  112/  304]\n",
      "#8 \t\ttrain_loss: 0.066;\ttrain_accuracy:  93.8%\t\t[  128/  304]\n",
      "#9 \t\ttrain_loss: 0.003;\ttrain_accuracy: 100.0%\t\t[  144/  304]\n",
      "#10\t\ttrain_loss: 0.012;\ttrain_accuracy: 100.0%\t\t[  160/  304]\n",
      "#11\t\ttrain_loss: 0.033;\ttrain_accuracy: 100.0%\t\t[  176/  304]\n",
      "#12\t\ttrain_loss: 0.003;\ttrain_accuracy: 100.0%\t\t[  192/  304]\n",
      "#13\t\ttrain_loss: 0.022;\ttrain_accuracy: 100.0%\t\t[  208/  304]\n",
      "#14\t\ttrain_loss: 0.113;\ttrain_accuracy:  93.8%\t\t[  224/  304]\n",
      "#15\t\ttrain_loss: 0.315;\ttrain_accuracy:  81.2%\t\t[  240/  304]\n",
      "#16\t\ttrain_loss: 0.096;\ttrain_accuracy:  93.8%\t\t[  256/  304]\n",
      "#17\t\ttrain_loss: 0.011;\ttrain_accuracy: 100.0%\t\t[  272/  304]\n",
      "#18\t\ttrain_loss: 0.002;\ttrain_accuracy: 100.0%\t\t[  288/  304]\n",
      "Valid metrics:\n",
      "\t avg_loss: 0.115232;\t avg_accuracy: 56.3%\n",
      "Epoch 11/15\n",
      "-------------------------------\n",
      "#0 \t\ttrain_loss: 0.035;\ttrain_accuracy: 100.0%\t\t[    0/  304]\n",
      "#1 \t\ttrain_loss: 0.095;\ttrain_accuracy:  93.8%\t\t[   16/  304]\n",
      "#2 \t\ttrain_loss: 0.039;\ttrain_accuracy: 100.0%\t\t[   32/  304]\n",
      "#3 \t\ttrain_loss: 0.120;\ttrain_accuracy:  93.8%\t\t[   48/  304]\n",
      "#4 \t\ttrain_loss: 0.272;\ttrain_accuracy:  93.8%\t\t[   64/  304]\n",
      "#5 \t\ttrain_loss: 0.001;\ttrain_accuracy: 100.0%\t\t[   80/  304]\n",
      "#6 \t\ttrain_loss: 0.009;\ttrain_accuracy: 100.0%\t\t[   96/  304]\n",
      "#7 \t\ttrain_loss: 0.004;\ttrain_accuracy: 100.0%\t\t[  112/  304]\n",
      "#8 \t\ttrain_loss: 0.266;\ttrain_accuracy:  81.2%\t\t[  128/  304]\n",
      "#9 \t\ttrain_loss: 0.665;\ttrain_accuracy:  81.2%\t\t[  144/  304]\n",
      "#10\t\ttrain_loss: 0.040;\ttrain_accuracy: 100.0%\t\t[  160/  304]\n",
      "#11\t\ttrain_loss: 0.087;\ttrain_accuracy:  93.8%\t\t[  176/  304]\n",
      "#12\t\ttrain_loss: 0.029;\ttrain_accuracy: 100.0%\t\t[  192/  304]\n",
      "#13\t\ttrain_loss: 0.233;\ttrain_accuracy:  93.8%\t\t[  208/  304]\n",
      "#14\t\ttrain_loss: 0.053;\ttrain_accuracy: 100.0%\t\t[  224/  304]\n",
      "#15\t\ttrain_loss: 0.016;\ttrain_accuracy: 100.0%\t\t[  240/  304]\n",
      "#16\t\ttrain_loss: 0.006;\ttrain_accuracy: 100.0%\t\t[  256/  304]\n",
      "#17\t\ttrain_loss: 0.115;\ttrain_accuracy:  93.8%\t\t[  272/  304]\n",
      "#18\t\ttrain_loss: 0.004;\ttrain_accuracy: 100.0%\t\t[  288/  304]\n",
      "Valid metrics:\n",
      "\t avg_loss: 0.159648;\t avg_accuracy: 47.1%\n",
      "Epoch 12/15\n",
      "-------------------------------\n",
      "#0 \t\ttrain_loss: 0.007;\ttrain_accuracy: 100.0%\t\t[    0/  304]\n",
      "#1 \t\ttrain_loss: 0.043;\ttrain_accuracy: 100.0%\t\t[   16/  304]\n",
      "#2 \t\ttrain_loss: 0.218;\ttrain_accuracy:  81.2%\t\t[   32/  304]\n",
      "#3 \t\ttrain_loss: 0.031;\ttrain_accuracy: 100.0%\t\t[   48/  304]\n",
      "#4 \t\ttrain_loss: 0.003;\ttrain_accuracy: 100.0%\t\t[   64/  304]\n",
      "#5 \t\ttrain_loss: 0.006;\ttrain_accuracy: 100.0%\t\t[   80/  304]\n",
      "#6 \t\ttrain_loss: 0.013;\ttrain_accuracy: 100.0%\t\t[   96/  304]\n",
      "#7 \t\ttrain_loss: 0.017;\ttrain_accuracy: 100.0%\t\t[  112/  304]\n",
      "#8 \t\ttrain_loss: 0.124;\ttrain_accuracy:  93.8%\t\t[  128/  304]\n",
      "#9 \t\ttrain_loss: 0.009;\ttrain_accuracy: 100.0%\t\t[  144/  304]\n",
      "#10\t\ttrain_loss: 0.167;\ttrain_accuracy:  93.8%\t\t[  160/  304]\n",
      "#11\t\ttrain_loss: 0.010;\ttrain_accuracy: 100.0%\t\t[  176/  304]\n",
      "#12\t\ttrain_loss: 0.040;\ttrain_accuracy: 100.0%\t\t[  192/  304]\n",
      "#13\t\ttrain_loss: 0.004;\ttrain_accuracy: 100.0%\t\t[  208/  304]\n",
      "#14\t\ttrain_loss: 0.056;\ttrain_accuracy: 100.0%\t\t[  224/  304]\n",
      "#15\t\ttrain_loss: 0.064;\ttrain_accuracy:  93.8%\t\t[  240/  304]\n",
      "#16\t\ttrain_loss: 0.001;\ttrain_accuracy: 100.0%\t\t[  256/  304]\n",
      "#17\t\ttrain_loss: 0.040;\ttrain_accuracy: 100.0%\t\t[  272/  304]\n",
      "#18\t\ttrain_loss: 0.019;\ttrain_accuracy: 100.0%\t\t[  288/  304]\n",
      "Valid metrics:\n",
      "\t avg_loss: 0.143304;\t avg_accuracy: 52.9%\n",
      "Epoch 13/15\n",
      "-------------------------------\n",
      "#0 \t\ttrain_loss: 0.003;\ttrain_accuracy: 100.0%\t\t[    0/  304]\n",
      "#1 \t\ttrain_loss: 0.009;\ttrain_accuracy: 100.0%\t\t[   16/  304]\n",
      "#2 \t\ttrain_loss: 0.012;\ttrain_accuracy: 100.0%\t\t[   32/  304]\n",
      "#3 \t\ttrain_loss: 0.012;\ttrain_accuracy: 100.0%\t\t[   48/  304]\n",
      "#4 \t\ttrain_loss: 0.039;\ttrain_accuracy: 100.0%\t\t[   64/  304]\n",
      "#5 \t\ttrain_loss: 0.019;\ttrain_accuracy: 100.0%\t\t[   80/  304]\n",
      "#6 \t\ttrain_loss: 0.014;\ttrain_accuracy: 100.0%\t\t[   96/  304]\n",
      "#7 \t\ttrain_loss: 0.012;\ttrain_accuracy: 100.0%\t\t[  112/  304]\n",
      "#8 \t\ttrain_loss: 0.015;\ttrain_accuracy: 100.0%\t\t[  128/  304]\n",
      "#9 \t\ttrain_loss: 0.003;\ttrain_accuracy: 100.0%\t\t[  144/  304]\n",
      "#10\t\ttrain_loss: 0.041;\ttrain_accuracy: 100.0%\t\t[  160/  304]\n",
      "#11\t\ttrain_loss: 0.003;\ttrain_accuracy: 100.0%\t\t[  176/  304]\n",
      "#12\t\ttrain_loss: 0.015;\ttrain_accuracy: 100.0%\t\t[  192/  304]\n",
      "#13\t\ttrain_loss: 0.003;\ttrain_accuracy: 100.0%\t\t[  208/  304]\n",
      "#14\t\ttrain_loss: 0.010;\ttrain_accuracy: 100.0%\t\t[  224/  304]\n",
      "#15\t\ttrain_loss: 0.229;\ttrain_accuracy:  93.8%\t\t[  240/  304]\n",
      "#16\t\ttrain_loss: 0.048;\ttrain_accuracy: 100.0%\t\t[  256/  304]\n",
      "#17\t\ttrain_loss: 0.090;\ttrain_accuracy:  93.8%\t\t[  272/  304]\n",
      "#18\t\ttrain_loss: 0.001;\ttrain_accuracy: 100.0%\t\t[  288/  304]\n"
     ]
    },
    {
     "name": "stdout",
     "output_type": "stream",
     "text": [
      "Valid metrics:\n",
      "\t avg_loss: 0.161126;\t avg_accuracy: 40.2%\n",
      "Epoch 14/15\n",
      "-------------------------------\n",
      "#0 \t\ttrain_loss: 0.001;\ttrain_accuracy: 100.0%\t\t[    0/  304]\n",
      "#1 \t\ttrain_loss: 0.065;\ttrain_accuracy: 100.0%\t\t[   16/  304]\n",
      "#2 \t\ttrain_loss: 0.007;\ttrain_accuracy: 100.0%\t\t[   32/  304]\n",
      "#3 \t\ttrain_loss: 0.020;\ttrain_accuracy: 100.0%\t\t[   48/  304]\n",
      "#4 \t\ttrain_loss: 0.005;\ttrain_accuracy: 100.0%\t\t[   64/  304]\n",
      "#5 \t\ttrain_loss: 0.035;\ttrain_accuracy: 100.0%\t\t[   80/  304]\n",
      "#6 \t\ttrain_loss: 0.027;\ttrain_accuracy: 100.0%\t\t[   96/  304]\n",
      "#7 \t\ttrain_loss: 0.017;\ttrain_accuracy: 100.0%\t\t[  112/  304]\n",
      "#8 \t\ttrain_loss: 0.146;\ttrain_accuracy:  87.5%\t\t[  128/  304]\n",
      "#9 \t\ttrain_loss: 0.011;\ttrain_accuracy: 100.0%\t\t[  144/  304]\n",
      "#10\t\ttrain_loss: 0.120;\ttrain_accuracy:  87.5%\t\t[  160/  304]\n",
      "#11\t\ttrain_loss: 0.002;\ttrain_accuracy: 100.0%\t\t[  176/  304]\n",
      "#12\t\ttrain_loss: 0.008;\ttrain_accuracy: 100.0%\t\t[  192/  304]\n",
      "#13\t\ttrain_loss: 0.010;\ttrain_accuracy: 100.0%\t\t[  208/  304]\n",
      "#14\t\ttrain_loss: 0.003;\ttrain_accuracy: 100.0%\t\t[  224/  304]\n",
      "#15\t\ttrain_loss: 0.008;\ttrain_accuracy: 100.0%\t\t[  240/  304]\n",
      "#16\t\ttrain_loss: 0.040;\ttrain_accuracy: 100.0%\t\t[  256/  304]\n"
     ]
    },
    {
     "ename": "KeyboardInterrupt",
     "evalue": "",
     "output_type": "error",
     "traceback": [
      "\u001b[0;31m---------------------------------------------------------------------------\u001b[0m",
      "\u001b[0;31mKeyboardInterrupt\u001b[0m                         Traceback (most recent call last)",
      "\u001b[0;32m<ipython-input-39-46070823beaf>\u001b[0m in \u001b[0;36m<module>\u001b[0;34m\u001b[0m\n\u001b[1;32m      6\u001b[0m \u001b[0;32mfor\u001b[0m \u001b[0mt\u001b[0m \u001b[0;32min\u001b[0m \u001b[0mrange\u001b[0m\u001b[0;34m(\u001b[0m\u001b[0mepochs\u001b[0m\u001b[0;34m)\u001b[0m\u001b[0;34m:\u001b[0m\u001b[0;34m\u001b[0m\u001b[0;34m\u001b[0m\u001b[0m\n\u001b[1;32m      7\u001b[0m     \u001b[0mprint\u001b[0m\u001b[0;34m(\u001b[0m\u001b[0;34mf\"Epoch {t+1}/{epochs}\\n-------------------------------\"\u001b[0m\u001b[0;34m)\u001b[0m\u001b[0;34m\u001b[0m\u001b[0;34m\u001b[0m\u001b[0m\n\u001b[0;32m----> 8\u001b[0;31m     \u001b[0mtrain_loop\u001b[0m\u001b[0;34m(\u001b[0m\u001b[0mtrain_generator\u001b[0m\u001b[0;34m,\u001b[0m \u001b[0mgcn\u001b[0m\u001b[0;34m,\u001b[0m \u001b[0mloss_fn\u001b[0m\u001b[0;34m,\u001b[0m \u001b[0moptimizer\u001b[0m\u001b[0;34m)\u001b[0m\u001b[0;34m\u001b[0m\u001b[0;34m\u001b[0m\u001b[0m\n\u001b[0m\u001b[1;32m      9\u001b[0m     \u001b[0mloss\u001b[0m\u001b[0;34m,\u001b[0m \u001b[0mcorrect\u001b[0m \u001b[0;34m=\u001b[0m \u001b[0mvalid_test_loop\u001b[0m\u001b[0;34m(\u001b[0m\u001b[0mvalid_generator\u001b[0m\u001b[0;34m,\u001b[0m \u001b[0mgcn\u001b[0m\u001b[0;34m,\u001b[0m \u001b[0mloss_fn\u001b[0m\u001b[0;34m)\u001b[0m\u001b[0;34m\u001b[0m\u001b[0;34m\u001b[0m\u001b[0m\n\u001b[1;32m     10\u001b[0m     \u001b[0mprint\u001b[0m\u001b[0;34m(\u001b[0m\u001b[0;34mf\"Valid metrics:\\n\\t avg_loss: {loss:>8f};\\t avg_accuracy: {(100*correct):>0.1f}%\"\u001b[0m\u001b[0;34m)\u001b[0m\u001b[0;34m\u001b[0m\u001b[0;34m\u001b[0m\u001b[0m\n",
      "\u001b[0;32m<ipython-input-38-e05ef3c70f3b>\u001b[0m in \u001b[0;36mtrain_loop\u001b[0;34m(dataloader, model, loss_fn, optimizer)\u001b[0m\n\u001b[1;32m      3\u001b[0m     \u001b[0;32mfor\u001b[0m \u001b[0mbatch\u001b[0m\u001b[0;34m,\u001b[0m \u001b[0;34m(\u001b[0m\u001b[0mX\u001b[0m\u001b[0;34m,\u001b[0m \u001b[0my\u001b[0m\u001b[0;34m)\u001b[0m \u001b[0;32min\u001b[0m \u001b[0menumerate\u001b[0m\u001b[0;34m(\u001b[0m\u001b[0mdataloader\u001b[0m\u001b[0;34m)\u001b[0m\u001b[0;34m:\u001b[0m\u001b[0;34m\u001b[0m\u001b[0;34m\u001b[0m\u001b[0m\n\u001b[1;32m      4\u001b[0m         \u001b[0;31m# Compute prediction and loss\u001b[0m\u001b[0;34m\u001b[0m\u001b[0;34m\u001b[0m\u001b[0;34m\u001b[0m\u001b[0m\n\u001b[0;32m----> 5\u001b[0;31m         \u001b[0mpred\u001b[0m \u001b[0;34m=\u001b[0m \u001b[0mmodel\u001b[0m\u001b[0;34m(\u001b[0m\u001b[0mX\u001b[0m\u001b[0;34m)\u001b[0m\u001b[0;34m\u001b[0m\u001b[0;34m\u001b[0m\u001b[0m\n\u001b[0m\u001b[1;32m      6\u001b[0m         \u001b[0mloss\u001b[0m \u001b[0;34m=\u001b[0m \u001b[0mloss_fn\u001b[0m\u001b[0;34m(\u001b[0m\u001b[0mpred\u001b[0m\u001b[0;34m,\u001b[0m \u001b[0my\u001b[0m\u001b[0;34m)\u001b[0m\u001b[0;34m\u001b[0m\u001b[0;34m\u001b[0m\u001b[0m\n\u001b[1;32m      7\u001b[0m \u001b[0;34m\u001b[0m\u001b[0m\n",
      "\u001b[0;32m~/.local/lib/python3.6/site-packages/torch/nn/modules/module.py\u001b[0m in \u001b[0;36m_call_impl\u001b[0;34m(self, *input, **kwargs)\u001b[0m\n\u001b[1;32m    887\u001b[0m             \u001b[0mresult\u001b[0m \u001b[0;34m=\u001b[0m \u001b[0mself\u001b[0m\u001b[0;34m.\u001b[0m\u001b[0m_slow_forward\u001b[0m\u001b[0;34m(\u001b[0m\u001b[0;34m*\u001b[0m\u001b[0minput\u001b[0m\u001b[0;34m,\u001b[0m \u001b[0;34m**\u001b[0m\u001b[0mkwargs\u001b[0m\u001b[0;34m)\u001b[0m\u001b[0;34m\u001b[0m\u001b[0;34m\u001b[0m\u001b[0m\n\u001b[1;32m    888\u001b[0m         \u001b[0;32melse\u001b[0m\u001b[0;34m:\u001b[0m\u001b[0;34m\u001b[0m\u001b[0;34m\u001b[0m\u001b[0m\n\u001b[0;32m--> 889\u001b[0;31m             \u001b[0mresult\u001b[0m \u001b[0;34m=\u001b[0m \u001b[0mself\u001b[0m\u001b[0;34m.\u001b[0m\u001b[0mforward\u001b[0m\u001b[0;34m(\u001b[0m\u001b[0;34m*\u001b[0m\u001b[0minput\u001b[0m\u001b[0;34m,\u001b[0m \u001b[0;34m**\u001b[0m\u001b[0mkwargs\u001b[0m\u001b[0;34m)\u001b[0m\u001b[0;34m\u001b[0m\u001b[0;34m\u001b[0m\u001b[0m\n\u001b[0m\u001b[1;32m    890\u001b[0m         for hook in itertools.chain(\n\u001b[1;32m    891\u001b[0m                 \u001b[0m_global_forward_hooks\u001b[0m\u001b[0;34m.\u001b[0m\u001b[0mvalues\u001b[0m\u001b[0;34m(\u001b[0m\u001b[0;34m)\u001b[0m\u001b[0;34m,\u001b[0m\u001b[0;34m\u001b[0m\u001b[0;34m\u001b[0m\u001b[0m\n",
      "\u001b[0;32m~/Documents/work/simexp_gcn/simexp_gcn/models/gcn.py\u001b[0m in \u001b[0;36mforward\u001b[0;34m(self, x)\u001b[0m\n\u001b[1;32m     61\u001b[0m \u001b[0;34m\u001b[0m\u001b[0m\n\u001b[1;32m     62\u001b[0m     \u001b[0;32mdef\u001b[0m \u001b[0mforward\u001b[0m\u001b[0;34m(\u001b[0m\u001b[0mself\u001b[0m\u001b[0;34m,\u001b[0m \u001b[0mx\u001b[0m\u001b[0;34m)\u001b[0m\u001b[0;34m:\u001b[0m\u001b[0;34m\u001b[0m\u001b[0;34m\u001b[0m\u001b[0m\n\u001b[0;32m---> 63\u001b[0;31m         \u001b[0mx\u001b[0m \u001b[0;34m=\u001b[0m \u001b[0mself\u001b[0m\u001b[0;34m.\u001b[0m\u001b[0mconv1\u001b[0m\u001b[0;34m(\u001b[0m\u001b[0mx\u001b[0m\u001b[0;34m,\u001b[0m \u001b[0mself\u001b[0m\u001b[0;34m.\u001b[0m\u001b[0medge_index\u001b[0m\u001b[0;34m,\u001b[0m \u001b[0mself\u001b[0m\u001b[0;34m.\u001b[0m\u001b[0medge_weight\u001b[0m\u001b[0;34m)\u001b[0m\u001b[0;34m\u001b[0m\u001b[0;34m\u001b[0m\u001b[0m\n\u001b[0m\u001b[1;32m     64\u001b[0m         \u001b[0mx\u001b[0m \u001b[0;34m=\u001b[0m \u001b[0mF\u001b[0m\u001b[0;34m.\u001b[0m\u001b[0mrelu\u001b[0m\u001b[0;34m(\u001b[0m\u001b[0mx\u001b[0m\u001b[0;34m)\u001b[0m\u001b[0;34m\u001b[0m\u001b[0;34m\u001b[0m\u001b[0m\n\u001b[1;32m     65\u001b[0m         \u001b[0mx\u001b[0m \u001b[0;34m=\u001b[0m \u001b[0mself\u001b[0m\u001b[0;34m.\u001b[0m\u001b[0mdropout\u001b[0m\u001b[0;34m(\u001b[0m\u001b[0mx\u001b[0m\u001b[0;34m)\u001b[0m\u001b[0;34m\u001b[0m\u001b[0;34m\u001b[0m\u001b[0m\n",
      "\u001b[0;32m~/.local/lib/python3.6/site-packages/torch/nn/modules/module.py\u001b[0m in \u001b[0;36m_call_impl\u001b[0;34m(self, *input, **kwargs)\u001b[0m\n\u001b[1;32m    887\u001b[0m             \u001b[0mresult\u001b[0m \u001b[0;34m=\u001b[0m \u001b[0mself\u001b[0m\u001b[0;34m.\u001b[0m\u001b[0m_slow_forward\u001b[0m\u001b[0;34m(\u001b[0m\u001b[0;34m*\u001b[0m\u001b[0minput\u001b[0m\u001b[0;34m,\u001b[0m \u001b[0;34m**\u001b[0m\u001b[0mkwargs\u001b[0m\u001b[0;34m)\u001b[0m\u001b[0;34m\u001b[0m\u001b[0;34m\u001b[0m\u001b[0m\n\u001b[1;32m    888\u001b[0m         \u001b[0;32melse\u001b[0m\u001b[0;34m:\u001b[0m\u001b[0;34m\u001b[0m\u001b[0;34m\u001b[0m\u001b[0m\n\u001b[0;32m--> 889\u001b[0;31m             \u001b[0mresult\u001b[0m \u001b[0;34m=\u001b[0m \u001b[0mself\u001b[0m\u001b[0;34m.\u001b[0m\u001b[0mforward\u001b[0m\u001b[0;34m(\u001b[0m\u001b[0;34m*\u001b[0m\u001b[0minput\u001b[0m\u001b[0;34m,\u001b[0m \u001b[0;34m**\u001b[0m\u001b[0mkwargs\u001b[0m\u001b[0;34m)\u001b[0m\u001b[0;34m\u001b[0m\u001b[0;34m\u001b[0m\u001b[0m\n\u001b[0m\u001b[1;32m    890\u001b[0m         for hook in itertools.chain(\n\u001b[1;32m    891\u001b[0m                 \u001b[0m_global_forward_hooks\u001b[0m\u001b[0;34m.\u001b[0m\u001b[0mvalues\u001b[0m\u001b[0;34m(\u001b[0m\u001b[0;34m)\u001b[0m\u001b[0;34m,\u001b[0m\u001b[0;34m\u001b[0m\u001b[0;34m\u001b[0m\u001b[0m\n",
      "\u001b[0;32m~/.local/lib/python3.6/site-packages/torch_geometric/nn/conv/cheb_conv.py\u001b[0m in \u001b[0;36mforward\u001b[0;34m(self, x, edge_index, edge_weight, batch, lambda_max)\u001b[0m\n\u001b[1;32m    135\u001b[0m         \u001b[0;31m# propagate_type: (x: Tensor, norm: Tensor)\u001b[0m\u001b[0;34m\u001b[0m\u001b[0;34m\u001b[0m\u001b[0;34m\u001b[0m\u001b[0m\n\u001b[1;32m    136\u001b[0m         \u001b[0;32mif\u001b[0m \u001b[0mself\u001b[0m\u001b[0;34m.\u001b[0m\u001b[0mweight\u001b[0m\u001b[0;34m.\u001b[0m\u001b[0msize\u001b[0m\u001b[0;34m(\u001b[0m\u001b[0;36m0\u001b[0m\u001b[0;34m)\u001b[0m \u001b[0;34m>\u001b[0m \u001b[0;36m1\u001b[0m\u001b[0;34m:\u001b[0m\u001b[0;34m\u001b[0m\u001b[0;34m\u001b[0m\u001b[0m\n\u001b[0;32m--> 137\u001b[0;31m             \u001b[0mTx_1\u001b[0m \u001b[0;34m=\u001b[0m \u001b[0mself\u001b[0m\u001b[0;34m.\u001b[0m\u001b[0mpropagate\u001b[0m\u001b[0;34m(\u001b[0m\u001b[0medge_index\u001b[0m\u001b[0;34m,\u001b[0m \u001b[0mx\u001b[0m\u001b[0;34m=\u001b[0m\u001b[0mx\u001b[0m\u001b[0;34m,\u001b[0m \u001b[0mnorm\u001b[0m\u001b[0;34m=\u001b[0m\u001b[0mnorm\u001b[0m\u001b[0;34m,\u001b[0m \u001b[0msize\u001b[0m\u001b[0;34m=\u001b[0m\u001b[0;32mNone\u001b[0m\u001b[0;34m)\u001b[0m\u001b[0;34m\u001b[0m\u001b[0;34m\u001b[0m\u001b[0m\n\u001b[0m\u001b[1;32m    138\u001b[0m             \u001b[0mout\u001b[0m \u001b[0;34m=\u001b[0m \u001b[0mout\u001b[0m \u001b[0;34m+\u001b[0m \u001b[0mtorch\u001b[0m\u001b[0;34m.\u001b[0m\u001b[0mmatmul\u001b[0m\u001b[0;34m(\u001b[0m\u001b[0mTx_1\u001b[0m\u001b[0;34m,\u001b[0m \u001b[0mself\u001b[0m\u001b[0;34m.\u001b[0m\u001b[0mweight\u001b[0m\u001b[0;34m[\u001b[0m\u001b[0;36m1\u001b[0m\u001b[0;34m]\u001b[0m\u001b[0;34m)\u001b[0m\u001b[0;34m\u001b[0m\u001b[0;34m\u001b[0m\u001b[0m\n\u001b[1;32m    139\u001b[0m \u001b[0;34m\u001b[0m\u001b[0m\n",
      "\u001b[0;32m~/.local/lib/python3.6/site-packages/torch_geometric/nn/conv/message_passing.py\u001b[0m in \u001b[0;36mpropagate\u001b[0;34m(self, edge_index, size, **kwargs)\u001b[0m\n\u001b[1;32m    251\u001b[0m \u001b[0;34m\u001b[0m\u001b[0m\n\u001b[1;32m    252\u001b[0m             \u001b[0maggr_kwargs\u001b[0m \u001b[0;34m=\u001b[0m \u001b[0mself\u001b[0m\u001b[0;34m.\u001b[0m\u001b[0minspector\u001b[0m\u001b[0;34m.\u001b[0m\u001b[0mdistribute\u001b[0m\u001b[0;34m(\u001b[0m\u001b[0;34m'aggregate'\u001b[0m\u001b[0;34m,\u001b[0m \u001b[0mcoll_dict\u001b[0m\u001b[0;34m)\u001b[0m\u001b[0;34m\u001b[0m\u001b[0;34m\u001b[0m\u001b[0m\n\u001b[0;32m--> 253\u001b[0;31m             \u001b[0mout\u001b[0m \u001b[0;34m=\u001b[0m \u001b[0mself\u001b[0m\u001b[0;34m.\u001b[0m\u001b[0maggregate\u001b[0m\u001b[0;34m(\u001b[0m\u001b[0mout\u001b[0m\u001b[0;34m,\u001b[0m \u001b[0;34m**\u001b[0m\u001b[0maggr_kwargs\u001b[0m\u001b[0;34m)\u001b[0m\u001b[0;34m\u001b[0m\u001b[0;34m\u001b[0m\u001b[0m\n\u001b[0m\u001b[1;32m    254\u001b[0m \u001b[0;34m\u001b[0m\u001b[0m\n\u001b[1;32m    255\u001b[0m             \u001b[0mupdate_kwargs\u001b[0m \u001b[0;34m=\u001b[0m \u001b[0mself\u001b[0m\u001b[0;34m.\u001b[0m\u001b[0minspector\u001b[0m\u001b[0;34m.\u001b[0m\u001b[0mdistribute\u001b[0m\u001b[0;34m(\u001b[0m\u001b[0;34m'update'\u001b[0m\u001b[0;34m,\u001b[0m \u001b[0mcoll_dict\u001b[0m\u001b[0;34m)\u001b[0m\u001b[0;34m\u001b[0m\u001b[0;34m\u001b[0m\u001b[0m\n",
      "\u001b[0;32m~/.local/lib/python3.6/site-packages/torch_geometric/nn/conv/message_passing.py\u001b[0m in \u001b[0;36maggregate\u001b[0;34m(self, inputs, index, ptr, dim_size)\u001b[0m\n\u001b[1;32m    286\u001b[0m         \u001b[0;32melse\u001b[0m\u001b[0;34m:\u001b[0m\u001b[0;34m\u001b[0m\u001b[0;34m\u001b[0m\u001b[0m\n\u001b[1;32m    287\u001b[0m             return scatter(inputs, index, dim=self.node_dim, dim_size=dim_size,\n\u001b[0;32m--> 288\u001b[0;31m                            reduce=self.aggr)\n\u001b[0m\u001b[1;32m    289\u001b[0m \u001b[0;34m\u001b[0m\u001b[0m\n\u001b[1;32m    290\u001b[0m     \u001b[0;32mdef\u001b[0m \u001b[0mmessage_and_aggregate\u001b[0m\u001b[0;34m(\u001b[0m\u001b[0mself\u001b[0m\u001b[0;34m,\u001b[0m \u001b[0madj_t\u001b[0m\u001b[0;34m:\u001b[0m \u001b[0mSparseTensor\u001b[0m\u001b[0;34m)\u001b[0m \u001b[0;34m->\u001b[0m \u001b[0mTensor\u001b[0m\u001b[0;34m:\u001b[0m\u001b[0;34m\u001b[0m\u001b[0;34m\u001b[0m\u001b[0m\n",
      "\u001b[0;32m~/.local/lib/python3.6/site-packages/torch_scatter/scatter.py\u001b[0m in \u001b[0;36mscatter\u001b[0;34m(src, index, dim, out, dim_size, reduce)\u001b[0m\n\u001b[1;32m    151\u001b[0m     \"\"\"\n\u001b[1;32m    152\u001b[0m     \u001b[0;32mif\u001b[0m \u001b[0mreduce\u001b[0m \u001b[0;34m==\u001b[0m \u001b[0;34m'sum'\u001b[0m \u001b[0;32mor\u001b[0m \u001b[0mreduce\u001b[0m \u001b[0;34m==\u001b[0m \u001b[0;34m'add'\u001b[0m\u001b[0;34m:\u001b[0m\u001b[0;34m\u001b[0m\u001b[0;34m\u001b[0m\u001b[0m\n\u001b[0;32m--> 153\u001b[0;31m         \u001b[0;32mreturn\u001b[0m \u001b[0mscatter_sum\u001b[0m\u001b[0;34m(\u001b[0m\u001b[0msrc\u001b[0m\u001b[0;34m,\u001b[0m \u001b[0mindex\u001b[0m\u001b[0;34m,\u001b[0m \u001b[0mdim\u001b[0m\u001b[0;34m,\u001b[0m \u001b[0mout\u001b[0m\u001b[0;34m,\u001b[0m \u001b[0mdim_size\u001b[0m\u001b[0;34m)\u001b[0m\u001b[0;34m\u001b[0m\u001b[0;34m\u001b[0m\u001b[0m\n\u001b[0m\u001b[1;32m    154\u001b[0m     \u001b[0;32mif\u001b[0m \u001b[0mreduce\u001b[0m \u001b[0;34m==\u001b[0m \u001b[0;34m'mul'\u001b[0m\u001b[0;34m:\u001b[0m\u001b[0;34m\u001b[0m\u001b[0;34m\u001b[0m\u001b[0m\n\u001b[1;32m    155\u001b[0m         \u001b[0;32mreturn\u001b[0m \u001b[0mscatter_mul\u001b[0m\u001b[0;34m(\u001b[0m\u001b[0msrc\u001b[0m\u001b[0;34m,\u001b[0m \u001b[0mindex\u001b[0m\u001b[0;34m,\u001b[0m \u001b[0mdim\u001b[0m\u001b[0;34m,\u001b[0m \u001b[0mout\u001b[0m\u001b[0;34m,\u001b[0m \u001b[0mdim_size\u001b[0m\u001b[0;34m)\u001b[0m\u001b[0;34m\u001b[0m\u001b[0;34m\u001b[0m\u001b[0m\n",
      "\u001b[0;32m~/.local/lib/python3.6/site-packages/torch_scatter/scatter.py\u001b[0m in \u001b[0;36mscatter_sum\u001b[0;34m(src, index, dim, out, dim_size)\u001b[0m\n\u001b[1;32m     19\u001b[0m             \u001b[0msize\u001b[0m\u001b[0;34m[\u001b[0m\u001b[0mdim\u001b[0m\u001b[0;34m]\u001b[0m \u001b[0;34m=\u001b[0m \u001b[0mint\u001b[0m\u001b[0;34m(\u001b[0m\u001b[0mindex\u001b[0m\u001b[0;34m.\u001b[0m\u001b[0mmax\u001b[0m\u001b[0;34m(\u001b[0m\u001b[0;34m)\u001b[0m\u001b[0;34m)\u001b[0m \u001b[0;34m+\u001b[0m \u001b[0;36m1\u001b[0m\u001b[0;34m\u001b[0m\u001b[0;34m\u001b[0m\u001b[0m\n\u001b[1;32m     20\u001b[0m         \u001b[0mout\u001b[0m \u001b[0;34m=\u001b[0m \u001b[0mtorch\u001b[0m\u001b[0;34m.\u001b[0m\u001b[0mzeros\u001b[0m\u001b[0;34m(\u001b[0m\u001b[0msize\u001b[0m\u001b[0;34m,\u001b[0m \u001b[0mdtype\u001b[0m\u001b[0;34m=\u001b[0m\u001b[0msrc\u001b[0m\u001b[0;34m.\u001b[0m\u001b[0mdtype\u001b[0m\u001b[0;34m,\u001b[0m \u001b[0mdevice\u001b[0m\u001b[0;34m=\u001b[0m\u001b[0msrc\u001b[0m\u001b[0;34m.\u001b[0m\u001b[0mdevice\u001b[0m\u001b[0;34m)\u001b[0m\u001b[0;34m\u001b[0m\u001b[0;34m\u001b[0m\u001b[0m\n\u001b[0;32m---> 21\u001b[0;31m         \u001b[0;32mreturn\u001b[0m \u001b[0mout\u001b[0m\u001b[0;34m.\u001b[0m\u001b[0mscatter_add_\u001b[0m\u001b[0;34m(\u001b[0m\u001b[0mdim\u001b[0m\u001b[0;34m,\u001b[0m \u001b[0mindex\u001b[0m\u001b[0;34m,\u001b[0m \u001b[0msrc\u001b[0m\u001b[0;34m)\u001b[0m\u001b[0;34m\u001b[0m\u001b[0;34m\u001b[0m\u001b[0m\n\u001b[0m\u001b[1;32m     22\u001b[0m     \u001b[0;32melse\u001b[0m\u001b[0;34m:\u001b[0m\u001b[0;34m\u001b[0m\u001b[0;34m\u001b[0m\u001b[0m\n\u001b[1;32m     23\u001b[0m         \u001b[0;32mreturn\u001b[0m \u001b[0mout\u001b[0m\u001b[0;34m.\u001b[0m\u001b[0mscatter_add_\u001b[0m\u001b[0;34m(\u001b[0m\u001b[0mdim\u001b[0m\u001b[0;34m,\u001b[0m \u001b[0mindex\u001b[0m\u001b[0;34m,\u001b[0m \u001b[0msrc\u001b[0m\u001b[0;34m)\u001b[0m\u001b[0;34m\u001b[0m\u001b[0;34m\u001b[0m\u001b[0m\n",
      "\u001b[0;31mKeyboardInterrupt\u001b[0m: "
     ]
    }
   ],
   "source": [
    "# Train and evaluate the model\n",
    "loss_fn = torch.nn.CrossEntropyLoss()\n",
    "optimizer = torch.optim.Adam(gcn.parameters(), lr=1e-4, weight_decay=5e-4)\n",
    "\n",
    "epochs = 1\n",
    "for t in range(epochs):\n",
    "    print(f\"Epoch {t+1}/{epochs}\\n-------------------------------\")\n",
    "    train_loop(train_generator, gcn, loss_fn, optimizer)\n",
    "    loss, correct = valid_test_loop(valid_generator, gcn, loss_fn)\n",
    "    print(f\"Valid metrics:\\n\\t avg_loss: {loss:>8f};\\t avg_accuracy: {(100*correct):>0.1f}%\")\n",
    "print(\"Done!\")"
   ]
  },
  {
   "cell_type": "markdown",
   "metadata": {},
   "source": [
    "# Test"
   ]
  },
  {
   "cell_type": "code",
   "execution_count": 13,
   "metadata": {},
   "outputs": [
    {
     "name": "stdout",
     "output_type": "stream",
     "text": [
      "Test metrics:\n",
      "\t avg_loss: 0.078984;\t avg_accuracy: 38.6%\n"
     ]
    }
   ],
   "source": [
    "loss, correct = valid_test_loop(test_generator, gcn, loss_fn)\n",
    "print(f\"Test metrics:\\n\\t avg_loss: {loss:>8f};\\t avg_accuracy: {(100*correct):>0.1f}%\")"
   ]
  },
  {
   "cell_type": "markdown",
   "metadata": {},
   "source": [
    "# Model saving"
   ]
  },
  {
   "cell_type": "code",
   "execution_count": 14,
   "metadata": {},
   "outputs": [],
   "source": [
    "torch.save(gcn.state_dict(), model_path)"
   ]
  },
  {
   "cell_type": "markdown",
   "metadata": {},
   "source": [
    "# PCA visualization"
   ]
  },
  {
   "cell_type": "code",
   "execution_count": 15,
   "metadata": {},
   "outputs": [
    {
     "name": "stderr",
     "output_type": "stream",
     "text": [
      "/home/ltetrel/.local/lib/python3.6/site-packages/sklearn/preprocessing/data.py:189: UserWarning: Numerical issues were encountered when scaling the data and might not be solved. The standard deviation of the data is probably very close to 0. \n",
      "  warnings.warn(\"Numerical issues were encountered \"\n"
     ]
    },
    {
     "data": {
      "image/png": "[encoded data removed]",
      "text/plain": [
       "<Figure size 432x288 with 1 Axes>"
      ]
     },
     "metadata": {
      "needs_background": "light"
     },
     "output_type": "display_data"
    }
   ],
   "source": [
    "simexp_gcn.visualization.visualize.vizualize_weights(gcn, \"fc3\")"
   ]
  },
  {
   "cell_type": "code",
   "execution_count": 16,
   "metadata": {},
   "outputs": [
    {
     "data": {
      "image/png": "[encoded data removed]",
      "text/plain": [
       "<Figure size 432x288 with 1 Axes>"
      ]
     },
     "metadata": {
      "needs_background": "light"
     },
     "output_type": "display_data"
    }
   ],
   "source": [
    "simexp_gcn.visualization.visualize.visualize_activation(gcn, train_generator, \"fc3\")"
   ]
  },
  {
   "cell_type": "code",
   "execution_count": null,
   "metadata": {},
   "outputs": [],
   "source": []
  }
 ],
 "metadata": {
  "interpreter": {
   "hash": "767d51c1340bd893661ea55ea3124f6de3c7a262a8b4abca0554b478b1e2ff90"
  },
  "kernelspec": {
   "display_name": "Python 3",
   "language": "python",
   "name": "python3"
  },
  "language_info": {
   "codemirror_mode": {
    "name": "ipython",
    "version": 3
   },
   "file_extension": ".py",
   "mimetype": "text/x-python",
   "name": "python",
   "nbconvert_exporter": "python",
   "pygments_lexer": "ipython3",
   "version": "3.6.9"
  },
  "varInspector": {
   "cols": {
    "lenName": 16,
    "lenType": 16,
    "lenVar": 40
   },
   "kernels_config": {
    "python": {
     "delete_cmd_postfix": "",
     "delete_cmd_prefix": "del ",
     "library": "var_list.py",
     "varRefreshCmd": "print(var_dic_list())"
    },
    "r": {
     "delete_cmd_postfix": ") ",
     "delete_cmd_prefix": "rm(",
     "library": "var_list.r",
     "varRefreshCmd": "cat(var_dic_list()) "
    }
   },
   "types_to_exclude": [
    "module",
    "function",
    "builtin_function_or_method",
    "instance",
    "_Feature"
   ],
   "window_display": false
  }
 },
 "nbformat": 4,
 "nbformat_minor": 2
}
